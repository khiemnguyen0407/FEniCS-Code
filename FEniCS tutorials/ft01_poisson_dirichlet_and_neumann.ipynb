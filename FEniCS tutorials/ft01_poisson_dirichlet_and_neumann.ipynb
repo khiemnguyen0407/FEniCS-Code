{
 "cells": [
  {
   "cell_type": "code",
   "execution_count": 1,
   "metadata": {},
   "outputs": [],
   "source": [
    "from fenics import *\n",
    "import matplotlib.pyplot as plt"
   ]
  },
  {
   "cell_type": "code",
   "execution_count": 21,
   "metadata": {},
   "outputs": [],
   "source": [
    "# Create mesh and define function space\n",
    "mesh = UnitSquareMesh(8, 8)\n",
    "V = FunctionSpace(mesh, 'Lagrange', 2)"
   ]
  },
  {
   "cell_type": "code",
   "execution_count": 22,
   "metadata": {},
   "outputs": [],
   "source": [
    "# Define boundary condition\n",
    "u_D = Expression('1 + x[0]*x[0] + 2*x[1]*x[1]', degree=2)\n",
    "\n",
    "TOL = 1E-12\n",
    "def boundary_D(x, on_boundary):\n",
    "    if on_boundary:\n",
    "        if near(x[0], 0, TOL) or near(x[0], 1, TOL):\n",
    "            return True\n",
    "        else:\n",
    "            return False\n",
    "    else:\n",
    "        return False\n",
    "    \n",
    "bc = DirichletBC(V, u_D, boundary_D)"
   ]
  },
  {
   "cell_type": "code",
   "execution_count": 23,
   "metadata": {},
   "outputs": [],
   "source": [
    "# Define variational problem\n",
    "u = TrialFunction(V)\n",
    "v = TestFunction(V)\n",
    "f = Constant(-6.0)\n",
    "a = dot(grad(u), grad(v))*dx\n",
    "\n",
    "# The linear form must include the Neunmann boundary condition\n",
    "g = Expression('4*x[1]', degree=1)\n",
    "L = f*v*dx + g*v*ds"
   ]
  },
  {
   "cell_type": "code",
   "execution_count": 24,
   "metadata": {},
   "outputs": [
    {
     "name": "stdout",
     "output_type": "stream",
     "text": [
      "Calling FFC just-in-time (JIT) compiler, this may take some time.\n",
      "Calling FFC just-in-time (JIT) compiler, this may take some time.\n"
     ]
    }
   ],
   "source": [
    "# Compute solution\n",
    "u = Function(V)\n",
    "solve(a == L, u, bc)"
   ]
  },
  {
   "cell_type": "code",
   "execution_count": 25,
   "metadata": {},
   "outputs": [
    {
     "data": {
      "text/plain": [
       "<matplotlib.tri.tricontour.TriContourSet at 0x7fda4d15f630>"
      ]
     },
     "execution_count": 25,
     "metadata": {},
     "output_type": "execute_result"
    },
    {
     "data": {
      "image/png": "[encoded data removed]",
      "text/plain": [
       "<Figure size 720x400 with 3 Axes>"
      ]
     },
     "metadata": {
      "needs_background": "light"
     },
     "output_type": "display_data"
    }
   ],
   "source": [
    "# Plot solution and mesh\n",
    "plt.figure(figsize=(9, 5), dpi=80)\n",
    "plt.subplot(1,3,1)\n",
    "plot(mesh)\n",
    "plt.subplot(1,3,2)\n",
    "plot(u)\n",
    "plt.subplot(1,3,3)\n",
    "plot(interpolate(u_D, V))\n",
    "\n",
    "# Save solution to file in VTK format\n",
    "# vtkfile = File('poisson/solution.pvd')\n",
    "# vtkfile << u"
   ]
  },
  {
   "cell_type": "code",
   "execution_count": 26,
   "metadata": {},
   "outputs": [
    {
     "name": "stdout",
     "output_type": "stream",
     "text": [
      "Calling FFC just-in-time (JIT) compiler, this may take some time.\n",
      "Calling FFC just-in-time (JIT) compiler, this may take some time.\n",
      "Calling FFC just-in-time (JIT) compiler, this may take some time.\n"
     ]
    }
   ],
   "source": [
    "# Compute error in L2 norm\n",
    "error_L2 = errornorm(u_D, u, 'L2')"
   ]
  },
  {
   "cell_type": "code",
   "execution_count": 27,
   "metadata": {},
   "outputs": [],
   "source": [
    "# Compute maximum error at verticies\n",
    "vertex_values_u_D = u_D.compute_vertex_values(mesh)\n",
    "vertex_values_u = u.compute_vertex_values(mesh)"
   ]
  },
  {
   "cell_type": "code",
   "execution_count": 28,
   "metadata": {},
   "outputs": [
    {
     "name": "stdout",
     "output_type": "stream",
     "text": [
      "u_exact =  [ 1.        1.015625  1.0625    1.140625  1.25      1.390625  1.5625\n",
      "  1.765625  2.        1.03125   1.046875  1.09375   1.171875  1.28125\n",
      "  1.421875  1.59375   1.796875  2.03125   1.125     1.140625  1.1875\n",
      "  1.265625  1.375     1.515625  1.6875    1.890625  2.125     1.28125\n",
      "  1.296875  1.34375   1.421875  1.53125   1.671875  1.84375   2.046875\n",
      "  2.28125   1.5       1.515625  1.5625    1.640625  1.75      1.890625\n",
      "  2.0625    2.265625  2.5       1.78125   1.796875  1.84375   1.921875\n",
      "  2.03125   2.171875  2.34375   2.546875  2.78125   2.125     2.140625\n",
      "  2.1875    2.265625  2.375     2.515625  2.6875    2.890625  3.125\n",
      "  2.53125   2.546875  2.59375   2.671875  2.78125   2.921875  3.09375\n",
      "  3.296875  3.53125   3.        3.015625  3.0625    3.140625  3.25\n",
      "  3.390625  3.5625    3.765625  4.      ]\n",
      "u_fem =  [ 1.        1.015625  1.0625    1.140625  1.25      1.390625  1.5625\n",
      "  1.765625  2.        1.03125   1.046875  1.09375   1.171875  1.28125\n",
      "  1.421875  1.59375   1.796875  2.03125   1.125     1.140625  1.1875\n",
      "  1.265625  1.375     1.515625  1.6875    1.890625  2.125     1.28125\n",
      "  1.296875  1.34375   1.421875  1.53125   1.671875  1.84375   2.046875\n",
      "  2.28125   1.5       1.515625  1.5625    1.640625  1.75      1.890625\n",
      "  2.0625    2.265625  2.5       1.78125   1.796875  1.84375   1.921875\n",
      "  2.03125   2.171875  2.34375   2.546875  2.78125   2.125     2.140625\n",
      "  2.1875    2.265625  2.375     2.515625  2.6875    2.890625  3.125\n",
      "  2.53125   2.546875  2.59375   2.671875  2.78125   2.921875  3.09375\n",
      "  3.296875  3.53125   3.        3.015625  3.0625    3.140625  3.25\n",
      "  3.390625  3.5625    3.765625  4.      ]\n"
     ]
    }
   ],
   "source": [
    "import numpy as np\n",
    "error_max = np.max(np.abs(vertex_values_u - vertex_values_u_D))\n",
    "print('u_exact = ', vertex_values_u_D)\n",
    "print('u_fem = ', vertex_values_u)"
   ]
  },
  {
   "cell_type": "code",
   "execution_count": 29,
   "metadata": {},
   "outputs": [
    {
     "name": "stdout",
     "output_type": "stream",
     "text": [
      "error L2 =  7.664459055405571e-14\n",
      "error_max =  1.33226762955e-13\n"
     ]
    }
   ],
   "source": [
    "# Print errors\n",
    "print('error L2 = ', error_L2)\n",
    "print('error_max = ', error_max)"
   ]
  },
  {
   "cell_type": "code",
   "execution_count": null,
   "metadata": {},
   "outputs": [],
   "source": []
  }
 ],
 "metadata": {
  "kernelspec": {
   "display_name": "Python 3",
   "language": "python",
   "name": "python3"
  },
  "language_info": {
   "codemirror_mode": {
    "name": "ipython",
    "version": 3
   },
   "file_extension": ".py",
   "mimetype": "text/x-python",
   "name": "python",
   "nbconvert_exporter": "python",
   "pygments_lexer": "ipython3",
   "version": "3.6.9"
  }
 },
 "nbformat": 4,
 "nbformat_minor": 2
}
