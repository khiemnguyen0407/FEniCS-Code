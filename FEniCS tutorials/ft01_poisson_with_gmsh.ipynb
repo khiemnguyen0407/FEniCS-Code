{
 "cells": [
  {
   "cell_type": "code",
   "execution_count": 1,
   "metadata": {},
   "outputs": [],
   "source": [
    "from dolfin import *\n",
    "import numpy as np\n",
    "import pygmsh as pg\n",
    "import meshio\n",
    "import matplotlib.pyplot as plt"
   ]
  },
  {
   "cell_type": "code",
   "execution_count": 2,
   "metadata": {},
   "outputs": [
    {
     "name": "stderr",
     "output_type": "stream",
     "text": [
      "WARNING:root:DOLFIN XML is a legacy format. Consider using XDMF instead.\n",
      "WARNING:root:DOLFIN XML can only handle one cell type at a time. Using triangle, discarding line, vertex.\n"
     ]
    },
    {
     "name": "stdout",
     "output_type": "stream",
     "text": [
      "Info    : Running 'gmsh -3 /tmp/tmpa9dj26a0.geo -format msh -bin -o /tmp/tmpwh97x6qu.msh' [Gmsh 3.0.6, 1 node, max. 1 thread]\n",
      "Info    : Started on Mon Aug  3 18:15:43 2020\n",
      "Info    : Reading '/tmp/tmpa9dj26a0.geo'...\n",
      "Info    : Done reading '/tmp/tmpa9dj26a0.geo'\n",
      "Info    : Finalized high order topology of periodic connections\n",
      "Info    : Meshing 1D...\n",
      "Info    : Meshing curve 1 (Line)\n",
      "Info    : Meshing curve 2 (Line)\n",
      "Info    : Meshing curve 3 (Line)\n",
      "Info    : Meshing curve 4 (Line)\n",
      "Info    : Done meshing 1D (0.000236 s)\n",
      "Info    : Meshing 2D...\n",
      "Info    : Meshing surface 1 (Plane, Delaunay)\n",
      "Info    : Done meshing 2D (0.01248 s)\n",
      "Info    : Meshing 3D...\n",
      "Info    : Done meshing 3D (5e-06 s)\n",
      "Info    : 45 vertices 92 elements\n",
      "Info    : Writing '/tmp/tmpwh97x6qu.msh'...\n",
      "Info    : Done writing '/tmp/tmpwh97x6qu.msh'\n",
      "Info    : Stopped on Mon Aug  3 18:15:43 2020\n"
     ]
    }
   ],
   "source": [
    "# Create mesh and define function space\n",
    "geom = pg.opencascade.Geometry(\n",
    "  characteristic_length_min=0.4,\n",
    "  characteristic_length_max=0.4,\n",
    "  )\n",
    "rectangle = geom.add_rectangle([-1.0, -1.0, 0], 2.0, 2.0)\n",
    "# disk = geom.add_disk([0.0, 0.0, 0], 0.25)\n",
    "# solid = geom.boolean_difference([rectangle], [disk])\n",
    "\n",
    "mesh = pg.generate_mesh(geom)\n",
    "meshio.write('Geometry/Circular-inclusion.xml', mesh)"
   ]
  },
  {
   "cell_type": "code",
   "execution_count": 7,
   "metadata": {},
   "outputs": [
    {
     "data": {
      "text/html": [
       "<!DOCTYPE html>\n",
       "<html>\n",
       "  <head>\n",
       "    <meta http-equiv=\"content-type\" content=\"text/html;charset=UTF-8\" />\n",
       "    <meta name=\"generator\" content=\"FEniCS/DOLFIN (http://fenicsproject.org)\" />\n",
       "    <title>FEniCS/DOLFIN X3DOM plot</title>\n",
       "    <script type=\"text/javascript\" src=\"https://www.x3dom.org/download/x3dom.js\"></script>\n",
       "    <script type=\"text/javascript\" src=\"https://code.jquery.com/jquery-3.1.0.js\"></script>\n",
       "    <script type=\"text/javascript\" src=\"https://rawgit.com/plscott/fenics-x3dom/master/x3dom_support.js\"></script>\n",
       "    <link rel=\"stylesheet\" type=\"text/css\" href=\"https://www.x3dom.org/download/x3dom.css\" />\n",
       "    <link rel=\"stylesheet\" type=\"text/css\" href=\"https://rawgit.com/plscott/fenics-x3dom/master/x3dom_support.css\" />\n",
       "  </head>\n",
       "  <body>\n",
       "    <x3d showStat=\"false\" xmlns=\"http://www.web3d.org/specifications/x3d-namespace\" width=\"500.000000px\" height=\"400.000000px\">\n",
       "      <scene>\n",
       "        <shape>\n",
       "          <appearance>\n",
       "            <material diffuseColor=\"1.000000 1.000000 1.000000\" emissiveColor=\"0.000000 0.000000 0.000000\" specularColor=\"0.000000 0.000000 0.000000\" ambientIntensity=\"0\" shininess=\"0.5\" transparency=\"0\"></material>\n",
       "          </appearance>\n",
       "          <indexedFaceSet solid=\"false\" colorPerVertex=\"false\" coordIndex=\"21 35 28 -1 23 34 25 -1 24 36 26 -1 25 34 33 -1 28 36 35 -1 22 33 27 -1 26 36 34 -1 27 35 33 -1 9 25 10 -1 13 26 14 -1 5 27 6 -1 17 28 18 -1 0 29 4 -1 1 30 8 -1 2 31 12 -1 3 32 16 -1 0 29 19 -1 1 30 7 -1 2 31 11 -1 3 32 15 -1 9 37 25 -1 13 38 26 -1 23 43 25 -1 24 44 26 -1 5 40 27 -1 6 42 27 -1 10 43 25 -1 14 44 26 -1 17 39 28 -1 18 41 28 -1 21 41 28 -1 24 39 28 -1 22 37 25 -1 22 42 27 -1 23 38 26 -1 21 40 27 -1 24 36 28 -1 20 36 35 -1 20 36 34 -1 21 35 27 -1 22 33 25 -1 23 34 26 -1 20 34 33 -1 20 35 33 -1 6 42 7 -1 10 43 11 -1 14 44 15 -1 18 41 19 -1 4 40 5 -1 8 37 9 -1 12 38 13 -1 16 39 17 -1 7 42 30 -1 11 43 31 -1 15 44 32 -1 19 41 29 -1 4 40 29 -1 8 37 30 -1 12 38 31 -1 16 39 32 -1 21 41 29 -1 21 40 29 -1 22 37 30 -1 23 38 31 -1 24 39 32 -1 22 42 30 -1 23 43 31 -1 24 44 32 -1 \">\n",
       "            <coordinate point=\"-1 -1 0 1 -1 0 1 1 0 -1 1 0 -0.6 -1 0 -0.2 -1 0 0.2 -1 0 0.6 -1 0 1 -0.6 0 1 -0.2 0 1 0.2 0 1 0.6 0 0.6 1 0 0.2 1 0 -0.2 1 0 -0.6 1 0 -1 0.6 0 -1 0.2 0 -1 -0.2 0 -1 -0.6 0 -7.225e-18 -1.445e-17 0 -0.425 -0.425 0 0.425 -0.425 0 0.425 0.425 0 -0.425 0.425 0 0.592129 0.0206522 0 -0.0206522 0.592129 0 0.0206522 -0.592129 0 -0.592129 -0.0206522 0 -0.671076 -0.671076 0 0.671076 -0.671076 0 0.671076 0.671076 0 -0.671076 0.671076 0 0.263313 -0.139311 0 0.137932 0.262905 0 -0.151058 -0.233591 0 -0.233906 0.150847 0 0.737641 -0.375085 0 0.375085 0.737641 0 -0.737641 0.375085 0 -0.375085 -0.737641 0 -0.737641 -0.383346 0 0.383346 -0.737641 0 0.737641 0.383346 0 -0.383346 0.737641 0 \"></coordinate>\n",
       "          </indexedFaceSet>\n",
       "        </shape>\n",
       "        <shape>\n",
       "          <appearance>\n",
       "            <material emissiveColor=\"0.000000 0.000000 0.000000\" specularColor=\"0.000000 0.000000 0.000000\" ambientIntensity=\"0\" shininess=\"0.5\" transparency=\"0\"></material>\n",
       "          </appearance>\n",
       "          <indexedLineSet solid=\"false\" colorPerVertex=\"false\" coordIndex=\"0 4 -1 0 19 -1 0 29 -1 1 7 -1 1 8 -1 1 30 -1 2 11 -1 2 12 -1 2 31 -1 3 15 -1 3 16 -1 3 32 -1 4 5 -1 4 29 -1 4 40 -1 5 6 -1 5 27 -1 5 40 -1 6 7 -1 6 27 -1 6 42 -1 7 30 -1 7 42 -1 8 9 -1 8 30 -1 8 37 -1 9 10 -1 9 25 -1 9 37 -1 10 11 -1 10 25 -1 10 43 -1 11 31 -1 11 43 -1 12 13 -1 12 31 -1 12 38 -1 13 14 -1 13 26 -1 13 38 -1 14 15 -1 14 26 -1 14 44 -1 15 32 -1 15 44 -1 16 17 -1 16 32 -1 16 39 -1 17 18 -1 17 28 -1 17 39 -1 18 19 -1 18 28 -1 18 41 -1 19 29 -1 19 41 -1 20 33 -1 20 34 -1 20 35 -1 20 36 -1 21 27 -1 21 28 -1 21 29 -1 21 35 -1 21 40 -1 21 41 -1 22 25 -1 22 27 -1 22 30 -1 22 33 -1 22 37 -1 22 42 -1 23 25 -1 23 26 -1 23 31 -1 23 34 -1 23 38 -1 23 43 -1 24 26 -1 24 28 -1 24 32 -1 24 36 -1 24 39 -1 24 44 -1 25 33 -1 25 34 -1 25 37 -1 25 43 -1 26 34 -1 26 36 -1 26 38 -1 26 44 -1 27 33 -1 27 35 -1 27 40 -1 27 42 -1 28 35 -1 28 36 -1 28 39 -1 28 41 -1 29 40 -1 29 41 -1 30 37 -1 30 42 -1 31 38 -1 31 43 -1 32 39 -1 32 44 -1 33 34 -1 33 35 -1 34 36 -1 35 36 -1 \">\n",
       "            <coordinate point=\"-1 -1 0 1 -1 0 1 1 0 -1 1 0 -0.6 -1 0 -0.2 -1 0 0.2 -1 0 0.6 -1 0 1 -0.6 0 1 -0.2 0 1 0.2 0 1 0.6 0 0.6 1 0 0.2 1 0 -0.2 1 0 -0.6 1 0 -1 0.6 0 -1 0.2 0 -1 -0.2 0 -1 -0.6 0 -7.225e-18 -1.445e-17 0 -0.425 -0.425 0 0.425 -0.425 0 0.425 0.425 0 -0.425 0.425 0 0.592129 0.0206522 0 -0.0206522 0.592129 0 0.0206522 -0.592129 0 -0.592129 -0.0206522 0 -0.671076 -0.671076 0 0.671076 -0.671076 0 0.671076 0.671076 0 -0.671076 0.671076 0 0.263313 -0.139311 0 0.137932 0.262905 0 -0.151058 -0.233591 0 -0.233906 0.150847 0 0.737641 -0.375085 0 0.375085 0.737641 0 -0.737641 0.375085 0 -0.375085 -0.737641 0 -0.737641 -0.383346 0 0.383346 -0.737641 0 0.737641 0.383346 0 -0.383346 0.737641 0 \"></coordinate>\n",
       "          </indexedLineSet>\n",
       "        </shape>\n",
       "        <viewpoint id=\"default\" position=\"2.828427 2.828427 2.828427\" orientation=\"-0.7071067812 0.7071067812 0 1\" fieldOfView=\"0.785398\" centerOfRotation=\"0.000000 0.000000 0.000000\" zNear=\"-1\" zFar=\"-1\"></viewpoint>\n",
       "        <viewpoint id=\"top\" position=\"0.000000 4.000000 0.000000\" orientation=\"-1 0 0 1.5707963267948\" fieldOfView=\"0.785398\" centerOfRotation=\"0.000000 0.000000 0.000000\" zNear=\"-1\" zFar=\"-1\"></viewpoint>\n",
       "        <viewpoint id=\"bottom\" position=\"0.000000 -4.000000 0.000000\" orientation=\"1 0 0 1.5707963267948\" fieldOfView=\"0.785398\" centerOfRotation=\"0.000000 0.000000 0.000000\" zNear=\"-1\" zFar=\"-1\"></viewpoint>\n",
       "        <viewpoint id=\"left\" position=\"4.000000 0.000000 0.000000\" orientation=\"0 1 0 1.5707963267948\" fieldOfView=\"0.785398\" centerOfRotation=\"0.000000 0.000000 0.000000\" zNear=\"-1\" zFar=\"-1\"></viewpoint>\n",
       "        <viewpoint id=\"right\" position=\"-4.000000 0.000000 0.000000\" orientation=\"0 -1 0 1.5707963267948\" fieldOfView=\"0.785398\" centerOfRotation=\"0.000000 0.000000 0.000000\" zNear=\"-1\" zFar=\"-1\"></viewpoint>\n",
       "        <viewpoint id=\"back\" position=\"0.000000 0.000000 -4.000000\" orientation=\"0 1 0 3.1415926535898\" fieldOfView=\"0.785398\" centerOfRotation=\"0.000000 0.000000 0.000000\" zNear=\"-1\" zFar=\"-1\"></viewpoint>\n",
       "        <viewpoint id=\"front\" position=\"0.000000 0.000000 4.000000\" orientation=\"0 0 0 1\" fieldOfView=\"0.785398\" centerOfRotation=\"0.000000 0.000000 0.000000\" zNear=\"-1\" zFar=\"-1\"></viewpoint>\n",
       "        <background skyColor=\"0.950000 0.950000 0.950000\"></background>\n",
       "        <directionalLight ambientIntensity=\"0\" intensity=\"1\"></directionalLight>\n",
       "      </scene>\n",
       "    </x3d>\n",
       "    <div id=\"menu\"><form id=\"menu-items\"><input type=\"radio\" id=\"button-options\" name=\"menu\" checked=\"\" />\n",
       "        <label for=\"button-options\">Options</label>\n",
       "        <input type=\"radio\" id=\"button-summary\" name=\"menu\" />\n",
       "        <label for=\"button-summary\" style=\"display: none;\">Summary</label>\n",
       "        <input type=\"radio\" id=\"button-color\" name=\"menu\" />\n",
       "        <label for=\"button-color\" style=\"display: none;\">Color</label>\n",
       "        <input type=\"radio\" id=\"button-warp\" name=\"menu\" />\n",
       "        <label for=\"button-warp\" style=\"display: none;\">Warp</label>\n",
       "        <input type=\"radio\" id=\"button-viewpoints\" name=\"menu\" />\n",
       "        <label for=\"button-viewpoints\" style=\"display: none;\">Viewpoints</label>\n",
       "      </form>\n",
       "      <div id=\"menu-content\"><div id=\"content-options\" for=\"button-options\"><span>Menu Options</span>\n",
       "          <br />\n",
       "          <form class=\"options\"><input type=\"checkbox\" id=\"select-summary\" />\n",
       "            <label for=\"select-summary\">Summary</label>\n",
       "          </form>\n",
       "          <br />\n",
       "          <form class=\"options\"><input type=\"checkbox\" id=\"select-color\" />\n",
       "            <label for=\"select-color\">Color</label>\n",
       "          </form>\n",
       "          <br />\n",
       "          <form class=\"options\"><input type=\"checkbox\" id=\"select-warp\" />\n",
       "            <label for=\"select-warp\">Warp</label>\n",
       "          </form>\n",
       "          <br />\n",
       "          <form class=\"options\"><input type=\"checkbox\" id=\"select-viewpoints\" />\n",
       "            <label for=\"select-viewpoints\">Viewpoints</label>\n",
       "          </form>\n",
       "        </div>\n",
       "        <div id=\"content-summary\" for=\"button-summary\" hidden=\"\">Number of vertices: 45<br />Number of cells: 68</div>\n",
       "        <div id=\"content-color\" for=\"button-color\" hidden=\"\"><form>\n",
       "            <input id=\"color-checkbox\" type=\"checkbox\" checked=\"\" />\n",
       "            <label for=\"color-checkbox\">Show Color</label>\n",
       "          </form>Current Color Map:<br />\n",
       "          <span id=\"min-color-value\"></span>\n",
       "          <span id=\"color-map\"></span>\n",
       "          <span id=\"max-color-value\"></span>\n",
       "        </div>\n",
       "        <div id=\"content-warp\" for=\"button-warp\" hidden=\"\"><form>\n",
       "            <input id=\"warp-checkbox\" type=\"checkbox\" />\n",
       "            <label for=\"warp-checkbox\">Warp By Scalar</label>\n",
       "            <br />\n",
       "            <input id=\"warp-slider\" type=\"range\" min=\"0\" max=\"5\" step=\"0.01\" value=\"1\" disabled=\"\" />\n",
       "            <br />\n",
       "            <label id=\"warp-slider-val\" for=\"warp-slider\">1</label>\n",
       "          </form>\n",
       "        </div>\n",
       "        <div id=\"content-viewpoints\" for=\"button-viewpoints\" hidden=\"\"><span>Viewpoint Options</span>\n",
       "          <br />\n",
       "          <button class=\"viewpoint\">front</button>\n",
       "          <button class=\"viewpoint\">back</button>\n",
       "          <button class=\"viewpoint\">left</button>\n",
       "          <br />\n",
       "          <button class=\"viewpoint\">right</button>\n",
       "          <button class=\"viewpoint\">top</button>\n",
       "          <button class=\"viewpoint\">bottom</button>\n",
       "        </div>\n",
       "      </div>\n",
       "    </div>\n",
       "  </body>\n",
       "</html>\n"
      ],
      "text/plain": [
       "<dolfin.cpp.mesh.Mesh at 0x7f6d537428e0>"
      ]
     },
     "execution_count": 7,
     "metadata": {},
     "output_type": "execute_result"
    }
   ],
   "source": [
    "mesh = Mesh(\"Geometry/Circular-inclusion.xml\")\n",
    "\n",
    "V = FunctionSpace(mesh, 'Lagrange', 2)\n",
    "\n",
    "mesh"
   ]
  },
  {
   "cell_type": "code",
   "execution_count": 8,
   "metadata": {},
   "outputs": [],
   "source": [
    "# Define boundary condition\n",
    "u_D = Expression('1 + x[0]*x[0] + 2*x[1]*x[1]', degree=2)\n",
    "\n",
    "def boundary(x, on_boundary):\n",
    "    return on_boundary\n",
    "bc = DirichletBC(V, u_D, boundary)"
   ]
  },
  {
   "cell_type": "code",
   "execution_count": 11,
   "metadata": {},
   "outputs": [],
   "source": [
    "# Define variational problem\n",
    "u = TrialFunction(V)\n",
    "v = TestFunction(V)\n",
    "f = Constant(-6.0)\n",
    "a = dot(grad(u), grad(v))*dx\n",
    "L = f * v * dx"
   ]
  },
  {
   "cell_type": "code",
   "execution_count": 12,
   "metadata": {},
   "outputs": [],
   "source": [
    "# Compute solution\n",
    "u = Function(V)\n",
    "solve(a == L, u, bc)"
   ]
  },
  {
   "cell_type": "code",
   "execution_count": 13,
   "metadata": {},
   "outputs": [],
   "source": [
    "# Compute error in L2 norm\n",
    "error_L2 = errornorm(u_D, u, 'L2')"
   ]
  },
  {
   "cell_type": "code",
   "execution_count": 14,
   "metadata": {},
   "outputs": [],
   "source": [
    "# Compute maximum error at verticies\n",
    "vertex_values_u_D = u_D.compute_vertex_values(mesh)\n",
    "vertex_values_u = u.compute_vertex_values(mesh)"
   ]
  },
  {
   "cell_type": "code",
   "execution_count": 15,
   "metadata": {},
   "outputs": [
    {
     "name": "stdout",
     "output_type": "stream",
     "text": [
      "u_exact =  [4.         4.         4.         4.         3.36       3.04\n",
      " 3.04       3.36       2.72       2.08       2.08       2.72\n",
      " 3.36       3.04       3.04       3.36       2.72       2.08\n",
      " 2.08       2.72       1.         1.541875   1.541875   1.541875\n",
      " 1.541875   1.35146967 1.7016598  1.7016598  1.35146967 2.35102759\n",
      " 2.35102759 2.35102759 2.35102759 1.10814921 1.15726289 1.1319479\n",
      " 1.10022181 1.82549117 2.22891676 1.82549117 2.22891676 1.83802176\n",
      " 2.23518205 1.83802176 2.23518205]\n",
      "u_fem =  [4.         4.         4.         4.         3.36       3.04\n",
      " 3.04       3.36       2.72       2.08       2.08       2.72\n",
      " 3.36       3.04       3.04       3.36       2.72       2.08\n",
      " 2.08       2.72       1.         1.541875   1.541875   1.541875\n",
      " 1.541875   1.35146967 1.7016598  1.7016598  1.35146967 2.35102759\n",
      " 2.35102759 2.35102759 2.35102759 1.10814921 1.15726289 1.1319479\n",
      " 1.10022181 1.82549117 2.22891676 1.82549117 2.22891676 1.83802176\n",
      " 2.23518205 1.83802176 2.23518205]\n"
     ]
    }
   ],
   "source": [
    "import numpy as np\n",
    "error_max = np.max(np.abs(vertex_values_u - vertex_values_u_D))\n",
    "print('u_exact = ', vertex_values_u_D)\n",
    "print('u_fem = ', vertex_values_u)"
   ]
  },
  {
   "cell_type": "code",
   "execution_count": 16,
   "metadata": {},
   "outputs": [
    {
     "name": "stdout",
     "output_type": "stream",
     "text": [
      "error L2 =  3.752295771864171e-14\n",
      "error_max =  3.352873534367973e-14\n"
     ]
    }
   ],
   "source": [
    "# Print errors\n",
    "print('error L2 = ', error_L2)\n",
    "print('error_max = ', error_max)"
   ]
  },
  {
   "cell_type": "code",
   "execution_count": 19,
   "metadata": {},
   "outputs": [
    {
     "data": {
      "text/plain": [
       "Coefficient(FunctionSpace(Mesh(VectorElement(FiniteElement('Lagrange', Cell('triangle', 3), 1), dim=3), 13), FiniteElement('Lagrange', Cell('triangle', 3), 2)), 36)"
      ]
     },
     "execution_count": 19,
     "metadata": {},
     "output_type": "execute_result"
    }
   ],
   "source": []
  },
  {
   "cell_type": "code",
   "execution_count": null,
   "metadata": {},
   "outputs": [],
   "source": []
  }
 ],
 "metadata": {
  "kernelspec": {
   "display_name": "Python 3",
   "language": "python",
   "name": "python3"
  },
  "language_info": {
   "codemirror_mode": {
    "name": "ipython",
    "version": 3
   },
   "file_extension": ".py",
   "mimetype": "text/x-python",
   "name": "python",
   "nbconvert_exporter": "python",
   "pygments_lexer": "ipython3",
   "version": "3.6.9"
  }
 },
 "nbformat": 4,
 "nbformat_minor": 2
}
