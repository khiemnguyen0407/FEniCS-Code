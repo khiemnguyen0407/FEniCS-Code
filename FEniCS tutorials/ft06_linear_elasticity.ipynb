{
 "cells": [
  {
   "cell_type": "code",
   "execution_count": 1,
   "metadata": {},
   "outputs": [],
   "source": [
    "from fenics import *\n",
    "from ufl import nabla_div, nabla_grad\n",
    "import dolfin as df\n",
    "from mpl_toolkits.mplot3d import axes3d\n",
    "import matplotlib.pyplot as plt"
   ]
  },
  {
   "cell_type": "code",
   "execution_count": 2,
   "metadata": {},
   "outputs": [],
   "source": [
    "# Scaled variables\n",
    "L = 1\n",
    "W = 0.2\n",
    "mu = 1\n",
    "rho = 1\n",
    "delta = W/L\n",
    "gamma = 0.4*delta**2\n",
    "beta = 1.25\n",
    "lambda_ = beta\n",
    "g = gamma"
   ]
  },
  {
   "cell_type": "code",
   "execution_count": 3,
   "metadata": {},
   "outputs": [],
   "source": [
    "# Create mesh and define function space\n",
    "mesh = BoxMesh(df.Point(0, 0, 0), df.Point(L, W, W), 20, 12, 12)\n",
    "V = VectorFunctionSpace(mesh, 'Lagrange', 1)"
   ]
  },
  {
   "cell_type": "code",
   "execution_count": 4,
   "metadata": {},
   "outputs": [],
   "source": [
    "# Define boundary condition\n",
    "TOL = 1E-14\n",
    "def clamped_boundary(x, on_boundary):\n",
    "    return on_boundary and x[0] < TOL\n",
    "bc = DirichletBC(V, Constant((0, 0, 0)), clamped_boundary)"
   ]
  },
  {
   "cell_type": "code",
   "execution_count": 5,
   "metadata": {},
   "outputs": [],
   "source": [
    "# Define strain and stress\n",
    "def epsilon(u):\n",
    "    return 0.5*(nabla_grad(u) + nabla_grad(u).T)\n",
    "\n",
    "def sigma(u):\n",
    "    return lambda_ * nabla_div(u) * Identity(d) + 2*mu*epsilon(u)"
   ]
  },
  {
   "cell_type": "code",
   "execution_count": 6,
   "metadata": {},
   "outputs": [],
   "source": [
    "# Define variational problem\n",
    "u = TrialFunction(V)\n",
    "d = u.geometric_dimension()\n",
    "v = TestFunction(V)\n",
    "f = Constant((0, 0, -rho * g))\n",
    "T = Constant((0, 0, 0))\n",
    "a = inner(sigma(u), epsilon(v))*dx\n",
    "L = dot(f, v)*dx + dot(T, v)*ds"
   ]
  },
  {
   "cell_type": "code",
   "execution_count": 7,
   "metadata": {},
   "outputs": [],
   "source": [
    "# Compute solution\n",
    "u = Function(V)\n",
    "solve(a == L, u, bc)"
   ]
  },
  {
   "cell_type": "code",
   "execution_count": 8,
   "metadata": {},
   "outputs": [
    {
     "name": "stdout",
     "output_type": "stream",
     "text": [
      "max von Mises stress:  0.20744774004\n",
      "min von Mises stress:  -1.0982668343e-07\n"
     ]
    }
   ],
   "source": [
    "# Plot stress\n",
    "s = sigma(u) - (1./3)*tr(sigma(u)) * Identity(d)\n",
    "von_Mises = sqrt(3./2 * inner(s, s))\n",
    "V = FunctionSpace(mesh, 'P', 1)\n",
    "von_Mises = project(von_Mises, V)\n",
    "# plot(von_Mises, title='Stress intensity')\n",
    "# von_Mises.vector().get_local()\n",
    "print('max von Mises stress: ', von_Mises.vector().get_local().max())\n",
    "print('min von Mises stress: ', von_Mises.vector().get_local().min())"
   ]
  },
  {
   "cell_type": "code",
   "execution_count": 9,
   "metadata": {},
   "outputs": [
    {
     "name": "stdout",
     "output_type": "stream",
     "text": [
      "max u_magnitude 0.220459163685\n",
      "min u_magnitude -8.68862119302e-07\n"
     ]
    }
   ],
   "source": [
    "# Compute magnitude of displacement\n",
    "u_magnitude = sqrt(dot(u, u))\n",
    "u_magnitude = project(u_magnitude, V)\n",
    "# plot(u_magnitude, 'Displacement magnitude')\n",
    "print('max u_magnitude', u_magnitude.vector().get_local().max())\n",
    "print('min u_magnitude', u_magnitude.vector().get_local().min())"
   ]
  },
  {
   "cell_type": "code",
   "execution_count": 10,
   "metadata": {},
   "outputs": [
    {
     "data": {
      "text/plain": [
       "(0.2204591636851311, -8.6886211930159177e-07)"
      ]
     },
     "execution_count": 10,
     "metadata": {},
     "output_type": "execute_result"
    }
   ],
   "source": [
    "u_magnitude.vector().get_local().max(), u_magnitude.vector().get_local().min()"
   ]
  },
  {
   "cell_type": "code",
   "execution_count": null,
   "metadata": {},
   "outputs": [],
   "source": []
  }
 ],
 "metadata": {
  "kernelspec": {
   "display_name": "Python 3",
   "language": "python",
   "name": "python3"
  },
  "language_info": {
   "codemirror_mode": {
    "name": "ipython",
    "version": 3
   },
   "file_extension": ".py",
   "mimetype": "text/x-python",
   "name": "python",
   "nbconvert_exporter": "python",
   "pygments_lexer": "ipython3",
   "version": "3.6.9"
  }
 },
 "nbformat": 4,
 "nbformat_minor": 4
}
