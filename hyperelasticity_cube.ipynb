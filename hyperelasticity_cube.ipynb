{
 "cells": [
  {
   "cell_type": "code",
   "execution_count": 14,
   "metadata": {},
   "outputs": [],
   "source": [
    "from dolfin import *\n",
    "import matplotlib.pyplot as plt"
   ]
  },
  {
   "cell_type": "code",
   "execution_count": 15,
   "metadata": {},
   "outputs": [],
   "source": [
    "# Optimization options for the form compiler\n",
    "parameters[\"form_compiler\"][\"cpp_optimize\"] = True\n",
    "ffc_options = {\"optimize\": True, \\\n",
    "               \"eliminate_zeros\": True, \\\n",
    "               \"precompute_basis_const\": True, \\\n",
    "               \"precompute_ip_const\": True}"
   ]
  },
  {
   "cell_type": "code",
   "execution_count": 16,
   "metadata": {},
   "outputs": [],
   "source": [
    "# Create mesh and define function space\n",
    "mesh = UnitCubeMesh(24, 16, 16)\n",
    "V = VectorFunctionSpace(mesh, 'Lagrange', 1)"
   ]
  },
  {
   "cell_type": "code",
   "execution_count": 17,
   "metadata": {},
   "outputs": [],
   "source": [
    "# Mark boundary subdomains\n",
    "left = CompiledSubDomain(\"near(x[0], side) && on_boundary\", side=0.0)\n",
    "right = CompiledSubDomain(\"near(x[0], side) && on_boundary\", side=1.0)"
   ]
  },
  {
   "cell_type": "code",
   "execution_count": 18,
   "metadata": {},
   "outputs": [],
   "source": [
    "# Define Dirichlet boundary values (x = 0 or x = 1)\n",
    "c = Constant((0, 0, 0))\n",
    "r = Expression((\"scale*0.0\",\n",
    "                \"scale*(y0 + (x[1] - y0)*cos(theta) - (x[2] - z0)*sin(theta) - x[1])\",\n",
    "                \"scale*(z0 + (x[1] - y0)*sin(theta) + (x[2] - z0)*cos(theta) - x[2])\"),\n",
    "                scale = 0.5, y0 = 0.5, z0 = 0.5, theta = pi/3, degree=2)"
   ]
  },
  {
   "cell_type": "code",
   "execution_count": 19,
   "metadata": {},
   "outputs": [],
   "source": [
    "bcLeft = DirichletBC(V, c, left)\n",
    "bcRight = DirichletBC(V, r, right)\n",
    "bcs = [bcLeft, bcRight]"
   ]
  },
  {
   "cell_type": "code",
   "execution_count": 20,
   "metadata": {},
   "outputs": [],
   "source": [
    "# Define functions\n",
    "du = TrialFunction(V)    # incremental displacement\n",
    "v = TestFunction(V)      # test function\n",
    "u = Function(V)          # displacement from previous iteration\n",
    "B = Constant((0.0, -0.5, 0.0))    # body force per unit volume\n",
    "T = Constant((0.1, 0.0, 0.0))\n",
    "\n",
    "#In place of Constant, it is also possible to use as_vector,\n",
    "# e.g. B = as_vector( [0.0, -0.5, 0.0] ). \n",
    "# The advantage of Constant is that its values can be changed \n",
    "# without requiring re-generation and re-compilation of C++ code. \n",
    "# On the other hand, using as_vector can eliminate some \n",
    "# function calls during assembly.\n",
    "\n",
    "# B = as_vector([0.0, -0.5, 0.0])\n",
    "# T = as_vector([0.1, 0.0, 0.0]) "
   ]
  },
  {
   "cell_type": "code",
   "execution_count": 21,
   "metadata": {},
   "outputs": [],
   "source": [
    "# The kinematic quantities involved in the model are defined using UFL syntax:\n",
    "# Kinematatics\n",
    "d = len(u)                   # spatial dimension\n",
    "F = Identity(d) + grad(u)    # deformation gradient\n",
    "C = F.T * F                  # right cauchy-green tensor\n",
    "\n",
    "# Invariants of deformation tensors\n",
    "Ic = tr(C)\n",
    "J = det(F)"
   ]
  },
  {
   "cell_type": "code",
   "execution_count": 22,
   "metadata": {},
   "outputs": [],
   "source": [
    "# The material parameters are set and the strain energy density and the total\n",
    "# potential energy are defined, again using UFL syntax.\n",
    "\n",
    "# Elasticity parameters\n",
    "E, nu = 10.0, 0.3\n",
    "mu_ = Constant(E / (2*(1+ nu)))\n",
    "lambda_ = Constant(E * nu / ((1 + nu)*(1 - 2*nu)))\n",
    "\n",
    "# Stored strain energy density (compressible neo-Hookean model)\n",
    "psi = 0.5 * mu_ * (Ic - 3) - mu_ * ln(J) + 0.5*lambda_ * (ln(J))**2\n",
    "\n",
    "# Total potential energy = (internal energy - external potential)*dx\n",
    "Pi = psi*dx - dot(B, u)*dx - dot(T, u)*ds"
   ]
  },
  {
   "cell_type": "code",
   "execution_count": 23,
   "metadata": {},
   "outputs": [],
   "source": [
    "# Compute first variation of Pi \n",
    "# namely, directional derivative about u in the direction of v\n",
    "F = derivative(Pi, u, v)\n",
    "# Compute Jacobian of F\n",
    "Jac_of_F = derivative(F, u, du)"
   ]
  },
  {
   "cell_type": "code",
   "execution_count": 24,
   "metadata": {},
   "outputs": [],
   "source": [
    "# Solve variational problem\n",
    "solve(F == 0, u, bcs, J=Jac_of_F, form_compiler_parameters=ffc_options)"
   ]
  },
  {
   "cell_type": "code",
   "execution_count": 25,
   "metadata": {},
   "outputs": [],
   "source": [
    "# Save solution in VTK format\n",
    "file = File(\"displacement.pvd\");\n",
    "file << u;"
   ]
  }
 ],
 "metadata": {
  "kernelspec": {
   "display_name": "Python 3",
   "language": "python",
   "name": "python3"
  },
  "language_info": {
   "codemirror_mode": {
    "name": "ipython",
    "version": 3
   },
   "file_extension": ".py",
   "mimetype": "text/x-python",
   "name": "python",
   "nbconvert_exporter": "python",
   "pygments_lexer": "ipython3",
   "version": "3.6.9"
  }
 },
 "nbformat": 4,
 "nbformat_minor": 4
}
