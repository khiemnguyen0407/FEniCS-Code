{
 "cells": [
  {
   "cell_type": "code",
   "execution_count": 1,
   "metadata": {},
   "outputs": [],
   "source": [
    "from dolfin import *\n",
    "import matplotlib.pyplot as plt\n",
    "import numpy as np\n",
    "import mshr\n",
    "import ufl\n",
    "import itertools"
   ]
  },
  {
   "cell_type": "markdown",
   "metadata": {},
   "source": [
    "### Mesh, periodic boundary, material parameters"
   ]
  },
  {
   "cell_type": "code",
   "execution_count": 2,
   "metadata": {},
   "outputs": [],
   "source": [
    "# Create the mesh for laminate microstructure\n",
    "vertices = np.array([[0, 0], [1, 0], [1, 1], [0, 1]])\n",
    "\n",
    "square = mshr.Rectangle(Point(0, 0), Point(1, 1))\n",
    "strip = mshr.Rectangle(Point(0.25, -1), Point(0.75, 1))\n",
    "\n",
    "square.set_subdomain(1, strip)\n",
    "mesh = mshr.generate_mesh(square, 24)\n",
    "subdomain_marker = MeshFunction(\n",
    "    'size_t', mesh, mesh.topology().dim(), mesh.domains())\n",
    "\n",
    "# Compute volume of RVE\n",
    "a = np.zeros((2, 2))      # direction vectors that define RVE.\n",
    "a[0,:] = vertices[1,:] - vertices[0,:]\n",
    "a[1,:] = vertices[3,:] - vertices[0,:]\n",
    "vol = np.linalg.det(a);\n",
    "\n",
    "# class used to define the periodic boundary map\n",
    "class PeriodicBoundary(SubDomain):\n",
    "    # Constructor\n",
    "    def __init__(self, vertices, TOL=DOLFIN_EPS_LARGE):\n",
    "        super().__init__()\n",
    "        self.TOL = TOL\n",
    "        self.vertices = vertices\n",
    "        # vectors generating periodicity\n",
    "        self.a = np.array([vertices[1,:] - vertices[0,:],\n",
    "                          vertices[3,:] - vertices[0,:]])\n",
    "        \n",
    "        # vectors normal to vectors a[0,:] and a[1,:]\n",
    "        self.n = np.array([[ -self.a[0,1], self.a[0,0] ], \n",
    "                          [ -self.a[1,1], self.a[1,0] ]])\n",
    "        \n",
    "    def inside(self, x, on_boundary):\n",
    "        # return True if x is on the left or bottom boundaries\n",
    "        # AND NOT on one of the bottom-right or top-left vertices\n",
    "        top_left = np.allclose(x, self.vertices[3,:])\n",
    "        bottom_right = np.allclose(x, self.vertices[1,:])\n",
    "        x_vector = x - self.vertices[0,:]\n",
    "        bottom = np.abs(np.dot(self.n[0,:], x_vector)) < self.TOL\n",
    "        left = np.abs(np.dot(self.n[1,:], x_vector)) < self.TOL\n",
    "            \n",
    "        return (left or bottom) and \\\n",
    "            (not (top_left or bottom_right)) and on_boundary\n",
    "    \n",
    "    # Map the right to the left, the top to the bottom boundaries\n",
    "    def map(self, x, y):\n",
    "        # top right node\n",
    "        if np.allclose(x, self.vertices[2,:]):\n",
    "            y[0] = x[0] - (self.a[0, 0] + self.a[1,0])\n",
    "            y[1] = x[1] - (self.a[0, 1] + self.a[1,1])\n",
    "        # right boundary\n",
    "        elif np.abs(np.dot(self.n[1,:], \n",
    "                           x - self.vertices[1,:])) < self.TOL:\n",
    "            y[0] = x[0] - self.a[0,0]\n",
    "            y[1] = x[1] - self.a[0,1]\n",
    "        # top boundary\n",
    "        else:  \n",
    "            y[0] = x[0] - self.a[1,0]\n",
    "            y[1] = x[1] - self.a[1,1]\n",
    "\n",
    "# Create an instance of periodic boundary condition\n",
    "pbc = PeriodicBoundary(vertices)"
   ]
  },
  {
   "cell_type": "code",
   "execution_count": 3,
   "metadata": {},
   "outputs": [],
   "source": [
    "# Elastic parameters for two different phases\n",
    "\n",
    "nu_ = np.array([0.35, 0.32])\n",
    "chi_ = np.array([1.0, 10.0])\n",
    "mu_ = np.array([1.0, 10.0])\n",
    "beta_ = 2*nu_/(1 - 2*nu_)\n",
    "EPS0 = 8.854\n",
    "\n",
    "class ParameterFunc(UserExpression):\n",
    "    def __init__(self, subdomain_marker, para_values, **kwargs):\n",
    "        super().__init__(**kwargs)\n",
    "        self.para_values = para_values\n",
    "        self.subdomain_marker = subdomain_marker\n",
    "            \n",
    "    def eval_cell(self, value, x, ufl_cell):\n",
    "        if self.subdomain_marker[ufl_cell.index] == 0:\n",
    "            value[0] = self.para_values[0]\n",
    "        else:\n",
    "            value[0] = self.para_values[1]\n",
    "    \n",
    "    def value_shape(self):\n",
    "        return ()\n",
    "    \n",
    "mu_func = ParameterFunc(subdomain_marker, mu_, degree=2)\n",
    "beta_func = ParameterFunc(subdomain_marker, beta_, degree=2)\n",
    "chi_func = ParameterFunc(subdomain_marker, chi_, degree=2)"
   ]
  },
  {
   "cell_type": "markdown",
   "metadata": {},
   "source": [
    "### Solution using FEniCS nonlinear solver"
   ]
  },
  {
   "cell_type": "code",
   "execution_count": 4,
   "metadata": {},
   "outputs": [],
   "source": [
    "Elem_Mech = VectorElement(\"CG\", mesh.ufl_cell(), degree=1)\n",
    "Elem_Elec = FiniteElement(\"CG\", mesh.ufl_cell(), degree=1)\n",
    "W = FunctionSpace(mesh, MixedElement([Elem_Mech, Elem_Elec]),\n",
    "                 constrained_domain = pbc)"
   ]
  },
  {
   "cell_type": "code",
   "execution_count": 5,
   "metadata": {},
   "outputs": [],
   "source": [
    "# Macroscopic deformation gradient\n",
    "theta = 0\n",
    "R_Macro_arr = np.array([[np.cos(theta), -np.sin(theta)], \n",
    "                        [np.sin(theta), np.cos(theta)]])\n",
    "U_Macro_arr = np.array([[0.95, 0.05], \n",
    "                      [0.05, 1.1]])\n",
    "F_Macro_arr = np.dot(R_Macro_arr, U_Macro_arr)\n",
    "E_Macro_arr = np.array([0.2, -0.2])\n",
    "F_Macro = Constant(F_Macro_arr)\n",
    "E_Macro = Constant(E_Macro_arr)"
   ]
  },
  {
   "cell_type": "code",
   "execution_count": 6,
   "metadata": {},
   "outputs": [],
   "source": [
    "(v_1, v_2) = TestFunctions(W)\n",
    "dsol = TrialFunction(W)\n",
    "sol = Function(W)\n",
    "(u, phi) = split(sol)\n",
    "\n",
    "d = mesh.geometric_dimension()\n",
    "F = F_Macro + grad(u)\n",
    "E = E_Macro + grad(phi)\n",
    "C = F.T * F\n",
    "J = det(F)\n",
    "Ic = tr(C)\n",
    "invC = inv(C)\n",
    "invF = inv(F)\n",
    "\n",
    "(i, j, k, l) = ufl.indices(4)\n",
    "\n",
    "Lambda = invC[0,0]*E[0]*E[0] + invC[0,1]*E[0]*E[1] \\\n",
    "    + invC[1,0]*E[1]*E[0] + invC[1,1]*E[1]*E[1]\n",
    "\n",
    "Kappa = as_tensor(-(invF[i,k]*invC[l,j] + invF[j,k]*invC[l,i]),\n",
    "                  (i, j, k, l))\n",
    "\n",
    "Zeta = as_tensor(Kappa[0,0,i,j]*E[0]*E[0]\n",
    "    + Kappa[0,1,i,j]*E[0]*E[1] + Kappa[1,0,i,j]*E[1]*E[0]\n",
    "    + Kappa[1,1,i,j]*E[1]*E[1], (i, j))\n",
    "\n",
    "# Total stress tensor\n",
    "P = mu_func * F - mu_func * J**(-beta_func) * invF.T \\\n",
    "    - 0.5*EPS0 * (J* invF.T * Lambda + (J + chi_func) * Zeta)\n",
    "\n",
    "# Displacement electric vector\n",
    "D = -EPS0 * (J + chi_func)*dot(invC, E)\n",
    "\n",
    "# define the volume integral element\n",
    "dx = Measure('dx', subdomain_data=subdomain_marker)\n",
    "\n",
    "Residual = inner(grad(v_1), P)*dx + dot(grad(v_2), D)*dx\n",
    "Jacobian = derivative(Residual, sol, dsol)\n",
    "\n",
    "solve(Residual == 0, sol, [], J=Jacobian)"
   ]
  },
  {
   "cell_type": "code",
   "execution_count": 7,
   "metadata": {},
   "outputs": [],
   "source": [
    "F_Micro = project(F_Macro + grad(sol.sub(0)), \n",
    "        TensorFunctionSpace(mesh, \"DG\", degree=1, shape=(2,2)))\n",
    "\n",
    "E_Micro = project(E_Macro + grad(sol.sub(1)), \n",
    "        VectorFunctionSpace(mesh, \"DG\", degree=1))"
   ]
  },
  {
   "cell_type": "code",
   "execution_count": 14,
   "metadata": {},
   "outputs": [
    {
     "name": "stdout",
     "output_type": "stream",
     "text": [
      "F_Micro:\n",
      "-------------------------------\n",
      "phase = 0: [0.90310977 0.05       0.12837104 1.1       ]\n",
      "phase = 1: [ 0.99689023  0.05       -0.02837104  1.1       ]\n",
      "E_Micro:\n",
      "-------------------------------\n",
      "phase = 0: [ 0.3243868 -0.2      ]\n",
      "phase = 1: [ 0.0756132 -0.2      ]\n"
     ]
    },
    {
     "data": {
      "image/png": "[encoded data removed]",
      "text/plain": [
       "<Figure size 960x180 with 6 Axes>"
      ]
     },
     "metadata": {
      "needs_background": "light"
     },
     "output_type": "display_data"
    }
   ],
   "source": [
    "plt.figure(figsize=(16,3), dpi=60)\n",
    "for i in range(2):\n",
    "    plt.subplot(1,3,i+1)\n",
    "    plt.colorbar(plot(sol.sub(0)[i]))\n",
    "plt.subplot(1,3,3); plt.colorbar(plot(sol.sub(1)))\n",
    "\n",
    "print(\"F_Micro:\\n-------------------------------\")\n",
    "print(\"phase = 0:\", F_Micro(0.1, 0.5) )\n",
    "print(\"phase = 1:\", F_Micro(0.5, 0.5) )\n",
    "\n",
    "print(\"E_Micro:\\n-------------------------------\")\n",
    "print(\"phase = 0:\", E_Micro(0.1, 0.5) )\n",
    "print(\"phase = 1:\", E_Micro(0.5, 0.5) )"
   ]
  },
  {
   "cell_type": "markdown",
   "metadata": {},
   "source": [
    "## Macroscopic tangent stiffness"
   ]
  },
  {
   "cell_type": "markdown",
   "metadata": {},
   "source": [
    "### Microscopic tangent stiffness at equilibrium state"
   ]
  },
  {
   "cell_type": "code",
   "execution_count": 15,
   "metadata": {},
   "outputs": [],
   "source": [
    "(i, j, k, l) = ufl.indices(4)\n",
    "d = mesh.geometric_dimension()\n",
    "I = Identity(d)\n",
    "F = F_Macro + grad(sol.sub(0))\n",
    "E = E_Macro + grad(sol.sub(1))\n",
    "C = F.T * F\n",
    "J = det(F)\n",
    "Ic = tr(C)\n",
    "invC = inv(C)\n",
    "invF = inv(F)\n",
    "\n",
    "\n",
    "#=================================================\n",
    "# Compute intermediate tensors\n",
    "\n",
    "(i, j, k, l, m, n) = ufl.indices(6)\n",
    "\n",
    "Lambda = invC[0,0]*E[0]*E[0] + invC[0,1]*E[0]*E[1] \\\n",
    "    + invC[1,0]*E[1]*E[0] + invC[1,1]*E[1]*E[1]\n",
    "\n",
    "Kappa = as_tensor(-(invF[i,k]*invC[l,j] + invF[j,k]*invC[l,i]),\n",
    "                  (i, j, k, l))\n",
    "\n",
    "Zeta = J * invF.T\n",
    "\n",
    "Omega = as_tensor(Kappa[0,0,i,j]*E[0]*E[0]\n",
    "    + Kappa[0,1,i,j]*E[0]*E[1] + Kappa[1,0,i,j]*E[1]*E[0]\n",
    "    + Kappa[1,1,i,j]*E[1]*E[1], (i, j))\n",
    "\n",
    "Gamma = as_tensor(-invF[i,k]*invF[l,j], (i,j,k,l))\n",
    "\n",
    "Q1 = as_tensor(invF[m,k]*invF[l,i]*invC[j,n] + invF[m,i]*invF[j,k]*invC[n,l]+invF[m,i]*invF[n,k]*invC[j,l],\n",
    "              (i,j,k,l,m,n))\n",
    "Q2 = as_tensor(Q1[i,j,k,l,0,0]*E[0]*E[0] + Q1[i,j,k,l,0,1]*E[0]*E[1] \\\n",
    "               + Q1[i,j,k,l,1,0]*E[1]*E[0] + Q1[i,j,k,l,1,1]*E[1]*E[1], (i,j,k,l))\n",
    "\n",
    "#=================================================\n",
    "# Compute microscopic tangent stiffnesses\n",
    "\n",
    "K_MechMech = as_tensor(mu_func*I[i,k]*I[j,l] - mu_func*J**(-beta_func)*(beta_func*Gamma[l,i,k,j] \n",
    "    + Gamma[j,i,k,l]) - 0.5*EPS0*(J*Lambda*(Gamma[j,i,k,l] - Gamma[l,i,k,j]) + Zeta[i,j]*Omega[k,l] \n",
    "    + Zeta[k,l]*Omega[i,j] + 2*(J+chi_func)*Q2[i,j,k,l]), (i,j,k,l))\n",
    "\n",
    "K_ElecMech = as_tensor(-EPS0*(Zeta[k,l] * (invC[i,0]*E[0]+invC[i,1]*E[1]) \n",
    "                       + (J + chi_func)*(Kappa[i,0,k,l]*E[0] + Kappa[i,1,k,l]*E[1])), (i, k, l))\n",
    "\n",
    "K_MechElec = as_tensor(K_ElecMech[i,k,l], (k, l, i))\n",
    "\n",
    "K_ElecElec = -EPS0*(J + chi_func)*invC"
   ]
  },
  {
   "cell_type": "markdown",
   "metadata": {},
   "source": [
    "### Fluctuation sensitivities"
   ]
  },
  {
   "cell_type": "code",
   "execution_count": 91,
   "metadata": {},
   "outputs": [],
   "source": [
    "du, dphi = TrialFunctions(W)\n",
    "v_1, v_2 = TestFunctions(W)\n",
    "\n",
    "# bilinear form corresponding to equation \n",
    "# for fluctuation sensitivities\n",
    "a = 0\n",
    "for (i1, i2, i3, i4) in itertools.product([0, 1], repeat=4):\n",
    "    a += v_1[i1].dx(i2) * K_MechMech[i1, i2, i3, i4] \\\n",
    "    * du[i3].dx(i4) * dx\n",
    "    \n",
    "for (i1, i2, i3) in itertools.product([0, 1], repeat=3):\n",
    "    a += v_1[i1].dx(i2)*K_MechElec[i1,i2,i3]*dphi.dx(i3) * dx \\\n",
    "        + v_2.dx(i3) * K_ElecMech[i3,i1,i2] * du[i1].dx(i2) * dx\n",
    "\n",
    "for (i1, i2) in itertools.product([0, 1], repeat=2):\n",
    "    a += v_2.dx(i1) * K_ElecElec[i1, i2] * dphi.dx(i2) * dx\n",
    "    \n",
    "# linear form for fluctuation sensitivities\n",
    "# ==========================================\n",
    "# linearization w.r.t. Macroscopic F\n",
    "sol_fluc_F_list = [Function(W) for i in range(4)]\n",
    "\n",
    "for (r, s) in itertools.product([0, 1], repeat=2):\n",
    "    L = 0\n",
    "    for (i1, i2) in itertools.product([0, 1], repeat=2):\n",
    "        L -= v_1[i1].dx(i2) * K_MechMech[i1,i2,r,s] * dx    \n",
    "    for i1 in range(2):\n",
    "        L -= v_2.dx(i1) * K_ElecMech[i1,r,s] * dx\n",
    "    \n",
    "    solve(a == L, sol_fluc_F_list[2*r+s], [])\n",
    "    \n",
    "# ==========================================\n",
    "# linearization w.r.t. Macroscopic E\n",
    "sol_fluc_E_list = [Function(W) for i in range(2)]\n",
    "\n",
    "for r in range(2):\n",
    "    L = 0\n",
    "    for (i1, i2) in itertools.product([0, 1], repeat=2):\n",
    "        L -= v_1[i1].dx(i2) * K_MechElec[i1,i2,r] * dx\n",
    "    for i1 in range(2):\n",
    "        L -= v_2.dx(i1) * K_ElecElec[i1,r] * dx\n",
    "    \n",
    "    solve(a == L, sol_fluc_E_list[r], [])"
   ]
  },
  {
   "cell_type": "code",
   "execution_count": 95,
   "metadata": {},
   "outputs": [
    {
     "name": "stdout",
     "output_type": "stream",
     "text": [
      "Fluctuation sensitivities w.r.t. F_Macro\n",
      "========================================\n",
      "---------- (1, 1) ----------\n",
      "Phase 0:  [ 0.92048876 -0.         -0.00465032  0.        ]\n",
      "Phase 1:  [-0.92048876 -0.          0.00465032  0.        ]\n",
      "Phase 0:  [ 0.19605829 -0.        ]\n",
      "Phase 0:  [-0.19605829 -0.        ]\n",
      "----------------------------\n",
      "\n",
      "---------- (1, 2) ----------\n",
      "Phase 0:  [-0.02851145  0.          0.75053502  0.        ]\n",
      "Phase 1:  [ 0.02851145  0.         -0.75053502 -0.        ]\n",
      "Phase 0:  [-0.0583028 -0.       ]\n",
      "Phase 0:  [ 0.0583028 -0.       ]\n",
      "----------------------------\n",
      "\n",
      "---------- (2, 1) ----------\n",
      "Phase 0:  [-0.08360249  0.          0.82198193  0.        ]\n",
      "Phase 1:  [ 0.08360249  0.         -0.82198193 -0.        ]\n",
      "Phase 0:  [-0.06005575 -0.        ]\n",
      "Phase 0:  [ 0.06005575 -0.        ]\n",
      "----------------------------\n",
      "\n",
      "---------- (2, 2) ----------\n",
      "Phase 0:  [ 0.31426335 -0.         -0.04834102  0.        ]\n",
      "Phase 1:  [-0.31426335 -0.          0.04834102 -0.        ]\n",
      "Phase 0:  [ 0.05445592 -0.        ]\n",
      "Phase 0:  [-0.05445592 -0.        ]\n",
      "----------------------------\n",
      "\n",
      "Fluctuation sensitivities w.r.t. E_Macro\n",
      "========================================\n",
      "---------- (1, 2) ----------\n",
      "Phase 0:  [-0.43423695 -0.          0.01973804 -0.        ]\n",
      "Phase 1:  [ 0.43423695  0.         -0.01973804 -0.        ]\n",
      "Phase 0:  [ 0.53688978 -0.        ]\n",
      "Phase 0:  [-0.53688978 -0.        ]\n",
      "----------------------------\n",
      "\n",
      "---------- (2, 2) ----------\n",
      "Phase 0:  [ 0.03670869 -0.         -0.00166858 -0.        ]\n",
      "Phase 1:  [-0.03670869 -0.          0.00166858  0.        ]\n",
      "Phase 0:  [0.02377933 0.        ]\n",
      "Phase 0:  [-0.02377933 -0.        ]\n",
      "----------------------------\n",
      "\n"
     ]
    }
   ],
   "source": [
    "print(\"Fluctuation sensitivities w.r.t. F_Macro\")\n",
    "print(\"========================================\")\n",
    "for (r, s) in itertools.product([0, 1], repeat=2):\n",
    "    u_fluc_F, phi_fluc_F = split(sol_fluc_F_list[2*r+s])\n",
    "    # dFfluc_dFmacro = grad(u_fluc_F)\n",
    "    # dEfluc_dFmacro = grad(phi_fluc_F)\n",
    "    \n",
    "    dFfluc_dFmacro = project(grad(u_fluc_F), \n",
    "                            TensorFunctionSpace(mesh, \"DG\", degree=2, shape=(2,2)))\n",
    "    dEfluc_dFmacro = project(grad(phi_fluc_F), \n",
    "                            VectorFunctionSpace(mesh, \"DG\", degree=2))\n",
    "    \n",
    "    print(\"----------\",(r+1, s+1),\"----------\")\n",
    "    print(\"Phase 0: \", np.round(dFfluc_dFmacro(0.125, 0.5), 13))\n",
    "    print(\"Phase 1: \", np.round(dFfluc_dFmacro(0.5,   0.5), 13))\n",
    "    print(\"Phase 0: \", np.round(dEfluc_dFmacro(0.125, 0.5), 13))\n",
    "    print(\"Phase 0: \", np.round(dEfluc_dFmacro(0.5,   0.5), 13))\n",
    "    print(\"----------------------------\\n\")\n",
    "    \n",
    "\n",
    "print(\"Fluctuation sensitivities w.r.t. E_Macro\")\n",
    "print(\"========================================\")\n",
    "for r in range(2):\n",
    "    u_fluc_F, phi_fluc_F = split(sol_fluc_E_list[r])\n",
    "    # dFfluc_dFmacro = grad(u_fluc_F)\n",
    "    # dEfluc_dFmacro = grad(phi_fluc_F)\n",
    "    \n",
    "    dFfluc_dEmacro = project(grad(u_fluc_F), \n",
    "                            TensorFunctionSpace(mesh, \"DG\", degree=2, shape=(2,2)))\n",
    "    dEfluc_dEmacro = project(grad(phi_fluc_F), \n",
    "                            VectorFunctionSpace(mesh, \"DG\", degree=2))\n",
    "    \n",
    "    print(\"----------\",(r+1, s+1),\"----------\")\n",
    "    print(\"Phase 0: \", np.round(dFfluc_dEmacro(0.125, 0.5), 13))\n",
    "    print(\"Phase 1: \", np.round(dFfluc_dEmacro(0.5,   0.5), 13))\n",
    "    print(\"Phase 0: \", np.round(dEfluc_dEmacro(0.125, 0.5), 13))\n",
    "    print(\"Phase 0: \", np.round(dEfluc_dEmacro(0.5,   0.5), 13))\n",
    "    print(\"----------------------------\\n\")\n",
    "    \n"
   ]
  },
  {
   "cell_type": "markdown",
   "metadata": {},
   "source": [
    "### Macroscopic elastic tangents via fluctuation sensitivities"
   ]
  },
  {
   "cell_type": "code",
   "execution_count": 103,
   "metadata": {},
   "outputs": [
    {
     "name": "stdout",
     "output_type": "stream",
     "text": [
      "Calling FFC just-in-time (JIT) compiler, this may take some time.\n"
     ]
    },
    {
     "name": "stderr",
     "output_type": "stream",
     "text": [
      "/home/coffeemilk/anaconda3/envs/fenics2018/lib/python3.7/site-packages/ffc/uflacs/analysis/dependencies.py:61: FutureWarning: Using a non-tuple sequence for multidimensional indexing is deprecated; use `arr[tuple(seq)]` instead of `arr[seq]`. In the future this will be interpreted as an array index, `arr[np.array(seq)]`, which will result either in an error or a different result.\n",
      "  active[targets] = 1\n"
     ]
    },
    {
     "name": "stdout",
     "output_type": "stream",
     "text": [
      "Calling FFC just-in-time (JIT) compiler, this may take some time.\n",
      "Calling FFC just-in-time (JIT) compiler, this may take some time.\n",
      "Calling FFC just-in-time (JIT) compiler, this may take some time.\n"
     ]
    }
   ],
   "source": [
    "#===========================\n",
    "# Derivatives of P_Macro w.r.t. F_Macro\n",
    "C_MechMech = np.zeros((2, 2, 2, 2))\n",
    "# Derivatives of D_Macro w.r.t. F_Macro\n",
    "C_ElecMech = np.zeros((2, 2, 2))\n",
    "# Derivatives of P_Macro w.r.t. E_Macro\n",
    "C_MechElec = np.zeros((2, 2, 2))\n",
    "# Derivatives of D_Macro w.r.t. E_Macro\n",
    "C_ElecElec = np.zeros((2, 2))\n",
    "\n",
    "# Compute C_MechMech\n",
    "for (i1, i2, i3, i4) in itertools.product([0, 1], repeat=4):\n",
    "    integrand = K_MechMech[i1, i2, i3, i4] * dx\n",
    "    u_fluc_F, phi_fluc_F= split(sol_fluc_F_list[2*i3+i4])\n",
    "    for (j1, j2) in itertools.product([0, 1], repeat=2):\n",
    "        integrand += K_MechMech[i1,i2,j1,j2] * u_fluc_F[j1].dx(j2) * dx\n",
    "    for j1 in range(2):\n",
    "        integrand += K_MechElec[i1,i2,j1] * phi_fluc_F.dx(j1) * dx\n",
    "    \n",
    "    C_MechMech[i1,i2,i3,i4] = assemble(integrand) / vol\n",
    "\n",
    "# Compute C_ElecMech\n",
    "for (i1, i2, i3) in itertools.product([0, 1], repeat=3):\n",
    "    integrand = K_ElecMech[i1, i2, i3] * dx\n",
    "    u_fluc_F, phi_fluc_F = split(sol_fluc_F_list[2*i2 + i3])\n",
    "    for (j1, j2) in itertools.product([0, 1], repeat=2):\n",
    "        integrand += K_ElecMech[i1,j1,j2] * u_fluc_F[j1].dx(j2) * dx\n",
    "    for j1 in range(2):\n",
    "        integrand += K_ElecElec[i1,j1] * phi_fluc_F.dx(j1) * dx\n",
    "        \n",
    "    C_ElecMech[i1,i2,i3] = assemble(integrand) / vol\n",
    "    \n",
    "# Compute C_ElecElec\n",
    "for (i1, i2) in itertools.product([0, 1], repeat=2):\n",
    "    integrand = K_ElecElec[i1,i2] * dx\n",
    "    u_fluc_E, phi_fluc_E = split(sol_fluc_E_list[i2])\n",
    "    for (j1, j2) in itertools.product([0, 1], repeat=2):\n",
    "        integrand += K_ElecMech[i1,j1,j2] * u_fluc_E[j1].dx(j2) * dx\n",
    "    for j1 in range(2):\n",
    "        integrand += K_ElecElec[i1,j1] * phi_fluc_E.dx(j1) * dx\n",
    "    \n",
    "    C_ElecElec[i1,i2] = assemble(integrand) / vol "
   ]
  },
  {
   "cell_type": "code",
   "execution_count": 107,
   "metadata": {},
   "outputs": [
    {
     "name": "stdout",
     "output_type": "stream",
     "text": [
      "========== C_MechMech ==========\n",
      " [[[[-0.18222086  2.22110076]\n",
      "   [ 3.80029632  3.04010888]]\n",
      "\n",
      "  [[ 2.22110076  1.48827431]\n",
      "   [-1.63928019  2.37621692]]]\n",
      "\n",
      "\n",
      " [[[ 3.80029632 -1.63928019]\n",
      "   [ 0.17692849  1.22647723]]\n",
      "\n",
      "  [[ 3.04010888  2.37621692]\n",
      "   [ 1.22647723 10.29427435]]]] \n",
      "\n",
      "========== C_ElecMech ==========\n",
      " [[[ 20.40152909  -7.88413287]\n",
      "  [ -8.0768192    0.41017074]]\n",
      "\n",
      " [[  0.20250157   5.8439033 ]\n",
      "  [  7.66445482 -16.85626727]]] \n",
      "\n",
      "========== C_ElecElec ==========\n",
      " [[-39.32212333   3.32413826]\n",
      " [  3.32413826 -48.05609829]] \n",
      "\n"
     ]
    }
   ],
   "source": [
    "print(\"========== C_MechMech ==========\\n\", C_MechMech, \"\\n\")\n",
    "\n",
    "print(\"========== C_ElecMech ==========\\n\", C_ElecMech, \"\\n\")\n",
    "\n",
    "print(\"========== C_ElecElec ==========\\n\", C_ElecElec, \"\\n\")"
   ]
  },
  {
   "cell_type": "code",
   "execution_count": null,
   "metadata": {},
   "outputs": [],
   "source": []
  }
 ],
 "metadata": {
  "kernelspec": {
   "display_name": "Python 3",
   "language": "python",
   "name": "python3"
  },
  "language_info": {
   "codemirror_mode": {
    "name": "ipython",
    "version": 3
   },
   "file_extension": ".py",
   "mimetype": "text/x-python",
   "name": "python",
   "nbconvert_exporter": "python",
   "pygments_lexer": "ipython3",
   "version": "3.7.8"
  }
 },
 "nbformat": 4,
 "nbformat_minor": 4
}
