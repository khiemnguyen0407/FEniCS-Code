{
 "cells": [
  {
   "cell_type": "code",
   "execution_count": 13,
   "metadata": {},
   "outputs": [],
   "source": [
    "from dolfin import *\n",
    "import numpy as np\n",
    "import matplotlib.pyplot as plt"
   ]
  },
  {
   "cell_type": "code",
   "execution_count": 5,
   "metadata": {},
   "outputs": [],
   "source": [
    "m = 2\n",
    "\n",
    "def qq(u):\n",
    "    return (1+u)**2"
   ]
  },
  {
   "cell_type": "code",
   "execution_count": 6,
   "metadata": {},
   "outputs": [],
   "source": [
    "# Set up the mesh and create finite element space relative to the mesh\n",
    "mesh = UnitSquareMesh(16, 16, \"crossed\")\n",
    "V = FunctionSpace(mesh, \"Lagrange\", 2)"
   ]
  },
  {
   "cell_type": "code",
   "execution_count": 7,
   "metadata": {},
   "outputs": [],
   "source": [
    "# Define boundary condition u = 0 at x = 0, u = 1 at x = 1.\n",
    "def left_boundary(x):\n",
    "    return near(x[0], 0, DOLFIN_EPS_LARGE)\n",
    "\n",
    "def right_boundary(x):\n",
    "    return near(x[0], 1.0, DOLFIN_EPS_LARGE)\n",
    "\n",
    "bcl = DirichletBC(V, Constant(0.0), left_boundary)\n",
    "bcr = DirichletBC(V, Constant(1.0), right_boundary)\n",
    "bcs = [bcl, bcr]"
   ]
  },
  {
   "cell_type": "code",
   "execution_count": 8,
   "metadata": {},
   "outputs": [],
   "source": [
    "# Define variational problem for Picard iterationi\n",
    "u = TrialFunction(V)\n",
    "v = TestFunction(V)\n",
    "u_k = interpolate(Constant(0.0), V)    # previous (known) solution u\n",
    "f = Constant(0.0)\n",
    "\n",
    "a = dot(qq(u_k) * grad(u), grad(v)) * dx    # bilinear form\n",
    "L = Constant(0.0) * v * dx                  # linear form"
   ]
  },
  {
   "cell_type": "code",
   "execution_count": 21,
   "metadata": {},
   "outputs": [
    {
     "name": "stdout",
     "output_type": "stream",
     "text": [
      "Iteration #1: norm = 1\n",
      "Iteration #2: norm = 0.171528\n",
      "Iteration #3: norm = 0.0151634\n",
      "Iteration #4: norm = 0.00684833\n",
      "Iteration #5: norm = 0.000874407\n",
      "Iteration #6: norm = 0.000315785\n",
      "Iteration #7: norm = 4.98171e-05\n",
      "Iteration #8: norm = 1.44204e-05\n",
      "Iteration #9: norm = 2.73723e-06\n"
     ]
    }
   ],
   "source": [
    "# Picard iterations\n",
    "w = Function(V)       # new unknown function (solution at new iteration)\n",
    "eps = 1.0             # error measure ||u - u_k||\n",
    "TOL = 1E-5            # tolerance for convergence test\n",
    "iter_count = 0        # iteration counter\n",
    "maxIter = 25          # max no. of iterations allowed\n",
    "w = interpolate(Constant(0.0), V)\n",
    "u_k.assign(w)\n",
    "while (eps > TOL) and (iter_count < maxIter):\n",
    "    iter_count += 1\n",
    "    solve(a == L, w, bcs)\n",
    "    difference = w.compute_vertex_values() - u_k.compute_vertex_values()\n",
    "    eps = np.linalg.norm(difference, ord=np.Inf)\n",
    "    print(\"Iteration #%d: norm = %g\" %(iter_count, eps))\n",
    "    # update for next iteration\n",
    "    u_k.assign(w)"
   ]
  },
  {
   "cell_type": "code",
   "execution_count": 48,
   "metadata": {},
   "outputs": [
    {
     "data": {
      "text/plain": [
       "<matplotlib.colorbar.Colorbar at 0x7f1f5dfda320>"
      ]
     },
     "execution_count": 48,
     "metadata": {},
     "output_type": "execute_result"
    },
    {
     "data": {
      "image/png": "[encoded data removed]",
      "text/plain": [
       "<Figure size 800x240 with 4 Axes>"
      ]
     },
     "metadata": {
      "needs_background": "light"
     },
     "output_type": "display_data"
    }
   ],
   "source": [
    "u_exact = Expression(\"pow(7*x[0] + 1, 1.0/3) - 1\", degree = 3)\n",
    "\n",
    "plt.figure(figsize=(10, 3), dpi=80)\n",
    "plt.subplot(1, 2, 1)\n",
    "plt.colorbar(plot(w))\n",
    "plt.subplot(1, 2, 2)\n",
    "plt.colorbar(plot(w - project(u_exact, V)))"
   ]
  },
  {
   "cell_type": "code",
   "execution_count": null,
   "metadata": {},
   "outputs": [],
   "source": []
  }
 ],
 "metadata": {
  "kernelspec": {
   "display_name": "Python 3",
   "language": "python",
   "name": "python3"
  },
  "language_info": {
   "codemirror_mode": {
    "name": "ipython",
    "version": 3
   },
   "file_extension": ".py",
   "mimetype": "text/x-python",
   "name": "python",
   "nbconvert_exporter": "python",
   "pygments_lexer": "ipython3",
   "version": "3.6.9"
  }
 },
 "nbformat": 4,
 "nbformat_minor": 4
}
