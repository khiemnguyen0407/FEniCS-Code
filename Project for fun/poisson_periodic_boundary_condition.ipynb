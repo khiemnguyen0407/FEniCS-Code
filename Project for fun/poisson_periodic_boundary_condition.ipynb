{
 "cells": [
  {
   "cell_type": "code",
   "execution_count": 103,
   "metadata": {
    "scrolled": true
   },
   "outputs": [],
   "source": [
    "from dolfin import *\n",
    "import matplotlib.pyplot as plt\n",
    "import numpy as np"
   ]
  },
  {
   "cell_type": "code",
   "execution_count": 115,
   "metadata": {},
   "outputs": [],
   "source": [
    "# Source term\n",
    "class Source(UserExpression):\n",
    "    def eval(self, values, x):\n",
    "        dx = x[0] - .5\n",
    "        dy = x[1] - .5\n",
    "        values[0] = x[0] * sin(5.0*DOLFIN_PI*x[1]) \\\n",
    "                    + exp(-(dx*dx + dy*dy)/0.02)\n",
    "    def value_shape(self):\n",
    "        return ()\n",
    "    \n",
    "class PeriodicSource(UserExpression):\n",
    "    def eval(self, values, x):\n",
    "        values[0] = sin(2 *DOLFIN_PI * x[0]) * cos(2*DOLFIN_PI*x[1])\n",
    "    def value_shape(self):\n",
    "        return ()\n",
    "    \n",
    "kappa = PeriodicSource()"
   ]
  },
  {
   "cell_type": "code",
   "execution_count": 205,
   "metadata": {},
   "outputs": [],
   "source": [
    "# Subdomain for Dirichlet boundary condition\n",
    "class FixTopAndBottom(SubDomain):\n",
    "    def inside(self, x, on_boundary):\n",
    "        return (near(x[1], 0, DOLFIN_EPS_LARGE)\\\n",
    "                or near(x[1], 1, DOLFIN_EPS_LARGE)) and on_boundary\n",
    "    \n",
    "class FixBottomLeft(SubDomain):\n",
    "    def inside(self, x, on_boundary):\n",
    "        return near(x[0], 0, 1E-10) and near(x[1], 0, 1E-10) and on_boundary"
   ]
  },
  {
   "cell_type": "code",
   "execution_count": 248,
   "metadata": {},
   "outputs": [],
   "source": [
    "# Subdomain for Periodic boundary condition\n",
    "class PeriodicBoundary(SubDomain):\n",
    "    # Left boundary is \"tangent domain\" G\n",
    "    def inside(self, x, on_boundary):\n",
    "        left = near(x[0], 0, 1E-10)\n",
    "        bottom = near(x[1], 0, 1E-10)\n",
    "        bottom_left = near(x[0], 0, 1E-10) \\\n",
    "                and near(x[1], 0, 1E-10)\n",
    "        bottom_right = near(x[0], 1, 1E-10) and near(x[1], 0, 1E-10)\n",
    "        top_left = near(x[0], 0, 1E-10) and near(x[1], 1, 1E-10)\n",
    "        top_right = near(x[0], 1, 1E-10) and near(x[1], 1, 1E-10)\n",
    "        \n",
    "        return left and bottom and \\\n",
    "            (not (bottom_left or bottom_right \n",
    "                  or top_left or top_right)) and on_boundary\n",
    "    \n",
    "    # Map right boundary (H) to the left boundary (G)\n",
    "    def map(self, x, y):\n",
    "        if near(x[0], 1.0, 1E-10) and (not near(x[1], 1.0, 1E-10)) and (not near(x[1], 0.0, 1E-10)):\n",
    "            y[0] = x[0] - 1.0\n",
    "            y[1] = x[1]\n",
    "        elif near(x[1], 1.0, 1E-10) and (not near(x[0], 1.0, 1E-10)) and (not near(x[0], 0.0, 1E-10)):\n",
    "            y[0] = x[0]\n",
    "            y[1] = x[1] - 1.0\n",
    "        else:\n",
    "            y[0] = x[0] - 1.0\n",
    "            y[1] = x[1] - 1.0\n",
    "        \n",
    "# Create an instance of periodic boundary condition\n",
    "# pbc = PeriodicBoundary()"
   ]
  },
  {
   "cell_type": "markdown",
   "metadata": {},
   "source": [
    "A 2D mesh is created using built-in class UnitSquareMesh, and we define a finite element function space relative to this mesh. Notice the fourth argument of FunctionSpace. It specifies that all functions in V have periodic boundaries defined by \"pbc\". Also notice that in order for periodic boundary conditions to work correctly it is necessary that the mesh nodes on the periodic boundaries match up. This is automatically satisfied for UnitSquareMesh but may require extra care with more general meshes (especially externally generated ones)."
   ]
  },
  {
   "cell_type": "code",
   "execution_count": 259,
   "metadata": {},
   "outputs": [],
   "source": [
    "# Create mesh and finite element\n",
    "mesh = UnitSquareMesh(16, 16, \"crossed\")\n",
    "V = FunctionSpace(mesh, \"CG\", 2, \n",
    "                  constrained_domain=PeriodicBoundary()) # CG = continuous Galerkin"
   ]
  },
  {
   "cell_type": "code",
   "execution_count": 260,
   "metadata": {},
   "outputs": [],
   "source": [
    "# Create Dirichlet boundary condition\n",
    "bc0 = DirichletBC(V, 0, FixBottomLeft())"
   ]
  },
  {
   "cell_type": "code",
   "execution_count": 261,
   "metadata": {},
   "outputs": [],
   "source": [
    "coef = Constant(np.array([[1, 0], [0, 1]]))"
   ]
  },
  {
   "cell_type": "code",
   "execution_count": 262,
   "metadata": {},
   "outputs": [],
   "source": [
    "# Define variational problem\n",
    "u = TrialFunction(V)\n",
    "v = TestFunction(V)\n",
    "f = PeriodicSource(element = V.ufl_element())\n",
    "a = dot(grad(v), dot(coef, grad(u))) * dx\n",
    "L = f*v*dx"
   ]
  },
  {
   "cell_type": "code",
   "execution_count": 273,
   "metadata": {},
   "outputs": [],
   "source": [
    "# Solve the variational problem for solution\n",
    "u = Function(V)\n",
    "solve(a == L, u, [])"
   ]
  },
  {
   "cell_type": "code",
   "execution_count": 274,
   "metadata": {},
   "outputs": [
    {
     "data": {
      "text/plain": [
       "<matplotlib.colorbar.Colorbar at 0x7fec8eddf438>"
      ]
     },
     "execution_count": 274,
     "metadata": {},
     "output_type": "execute_result"
    },
    {
     "data": {
      "image/png": "[encoded data removed]",
      "text/plain": [
       "<Figure size 432x288 with 2 Axes>"
      ]
     },
     "metadata": {
      "needs_background": "light"
     },
     "output_type": "display_data"
    }
   ],
   "source": [
    "plt.colorbar(plot(u))"
   ]
  },
  {
   "cell_type": "code",
   "execution_count": 275,
   "metadata": {},
   "outputs": [
    {
     "data": {
      "text/plain": [
       "589"
      ]
     },
     "execution_count": 275,
     "metadata": {},
     "output_type": "execute_result"
    }
   ],
   "source": [
    "np.argmin(np.abs(u.vector().get_local()))"
   ]
  },
  {
   "cell_type": "code",
   "execution_count": 276,
   "metadata": {},
   "outputs": [
    {
     "data": {
      "text/plain": [
       "-4.065758146820642e-18"
      ]
     },
     "execution_count": 276,
     "metadata": {},
     "output_type": "execute_result"
    }
   ],
   "source": [
    "assemble(project(kappa, V)*dx)"
   ]
  },
  {
   "cell_type": "code",
   "execution_count": 277,
   "metadata": {},
   "outputs": [
    {
     "data": {
      "text/plain": [
       "6.384521756327985e-05"
      ]
     },
     "execution_count": 277,
     "metadata": {},
     "output_type": "execute_result"
    }
   ],
   "source": [
    "u.vector().get_local()[589]"
   ]
  },
  {
   "cell_type": "code",
   "execution_count": 269,
   "metadata": {},
   "outputs": [
    {
     "ename": "IndexError",
     "evalue": "index 589 is out of bounds for axis 0 with size 545",
     "output_type": "error",
     "traceback": [
      "\u001b[0;31m---------------------------------------------------------------------------\u001b[0m",
      "\u001b[0;31mIndexError\u001b[0m                                Traceback (most recent call last)",
      "\u001b[0;32m<ipython-input-269-87581db2240b>\u001b[0m in \u001b[0;36m<module>\u001b[0;34m\u001b[0m\n\u001b[0;32m----> 1\u001b[0;31m \u001b[0mmesh\u001b[0m\u001b[0;34m.\u001b[0m\u001b[0mcoordinates\u001b[0m\u001b[0;34m(\u001b[0m\u001b[0;34m)\u001b[0m\u001b[0;34m[\u001b[0m\u001b[0;36m589\u001b[0m\u001b[0;34m]\u001b[0m\u001b[0;34m\u001b[0m\u001b[0;34m\u001b[0m\u001b[0m\n\u001b[0m",
      "\u001b[0;31mIndexError\u001b[0m: index 589 is out of bounds for axis 0 with size 545"
     ]
    }
   ],
   "source": [
    "mesh.coordinates()[589]"
   ]
  },
  {
   "cell_type": "code",
   "execution_count": null,
   "metadata": {},
   "outputs": [],
   "source": []
  }
 ],
 "metadata": {
  "kernelspec": {
   "display_name": "Python 3",
   "language": "python",
   "name": "python3"
  },
  "language_info": {
   "codemirror_mode": {
    "name": "ipython",
    "version": 3
   },
   "file_extension": ".py",
   "mimetype": "text/x-python",
   "name": "python",
   "nbconvert_exporter": "python",
   "pygments_lexer": "ipython3",
   "version": "3.6.9"
  }
 },
 "nbformat": 4,
 "nbformat_minor": 4
}
