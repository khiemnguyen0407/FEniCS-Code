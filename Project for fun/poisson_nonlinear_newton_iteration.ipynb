{
 "cells": [
  {
   "cell_type": "code",
   "execution_count": 1,
   "metadata": {},
   "outputs": [],
   "source": [
    "from dolfin import *\n",
    "import numpy as np\n",
    "import matplotlib.pyplot as plt"
   ]
  },
  {
   "cell_type": "code",
   "execution_count": 2,
   "metadata": {},
   "outputs": [],
   "source": [
    "# Set up the mesh and create finite element space relative to the mesh\n",
    "mesh = UnitSquareMesh(16, 16, \"crossed\")\n",
    "V = FunctionSpace(mesh, \"Lagrange\", 2)"
   ]
  },
  {
   "cell_type": "code",
   "execution_count": 3,
   "metadata": {},
   "outputs": [],
   "source": [
    "# Define boundary condition u = 0 at x = 0, u = 1 at x = 1.\n",
    "def left_boundary(x, on_boundary):\n",
    "    return near(x[0], 0, DOLFIN_EPS_LARGE) and on_boundary\n",
    "\n",
    "def right_boundary(x, on_boundary):\n",
    "    return near(x[0], 1.0, DOLFIN_EPS_LARGE) and on_boundary\n",
    "\n",
    "Gamma_0 = DirichletBC(V, Constant(0.0), left_boundary)\n",
    "Gamma_1 = DirichletBC(V, Constant(1.0), right_boundary)\n",
    "bcs = [Gamma_0, Gamma_1]"
   ]
  },
  {
   "cell_type": "code",
   "execution_count": 4,
   "metadata": {},
   "outputs": [
    {
     "data": {
      "text/plain": [
       "1"
      ]
     },
     "execution_count": 4,
     "metadata": {},
     "output_type": "execute_result"
    }
   ],
   "source": [
    "# Define variational problem for initial guess (q(u)=1, i.e., m=0)\n",
    "\n",
    "u = TrialFunction(V)\n",
    "v = TestFunction(V)\n",
    "a = dot(grad(u), grad(v)) * dx\n",
    "f = Constant(0.0)\n",
    "L = f * v * dx\n",
    "A, b = assemble_system(a, L, bcs)\n",
    "\n",
    "u_k = Function(V)\n",
    "U_k = u_k.vector()\n",
    "solve(A, U_k, b)   # solve(A, u_k.vector(), b)"
   ]
  },
  {
   "cell_type": "code",
   "execution_count": 5,
   "metadata": {},
   "outputs": [],
   "source": [
    "# The Dirichlet boundary conditions for the incremental solution du in the\n",
    "# nonlinear problem to be solved in each Newton iteration are somewhat\n",
    "# different than the conditions for u. Assuming that u_k already fulfills \n",
    "# the Dirichlet conditions for u, du must be zero at the boundaries where the\n",
    "# Dirichlet conditions apply. Thus, we define the new boundary conditions for\n",
    "# the incremental solution du in each linearized variational problem\n",
    "Gamma_0_du = DirichletBC(V, Constant(0.0), left_boundary)\n",
    "Gamma_1_du = DirichletBC(V, Constant(0.0), right_boundary)\n",
    "bcs_du = [Gamma_0_du, Gamma_1_du]"
   ]
  },
  {
   "cell_type": "code",
   "execution_count": 6,
   "metadata": {},
   "outputs": [],
   "source": [
    "# Define q(u) = (1+u)^m and its derivative Dq(u) = m*(1+u)^(m-1)\n",
    "m = 2\n",
    "def qq(u):\n",
    "    return (1+u)**m\n",
    "\n",
    "def Dqq(u):\n",
    "    return m*(1+u)**(m-1)\n",
    "\n",
    "# Set up the bilinear and linear forms resulted from the linearized\n",
    "# variational problem\n",
    "\n",
    "du = TrialFunction(V)\n",
    "v = TestFunction(V)\n",
    "a = dot(qq(u_k) * grad(du), grad(v)) * dx \\\n",
    "    + dot(Dqq(u_k) * du * grad(u_k), grad(v))*dx\n",
    "L = -dot(qq(u_k)*grad(u_k), grad(v))*dx"
   ]
  },
  {
   "cell_type": "code",
   "execution_count": 7,
   "metadata": {},
   "outputs": [
    {
     "name": "stdout",
     "output_type": "stream",
     "text": [
      "Norm:  0.18104310793233494\n",
      "Norm:  0.019835721764219483\n",
      "Norm:  0.00026934866873970926\n",
      "Norm:  4.987922493956954e-08\n"
     ]
    }
   ],
   "source": [
    "# Newton iteration\n",
    "dw = Function(V)\n",
    "u = Function(V)\n",
    "omega = 1.0       # relaxation parameter\n",
    "eps = 1.0\n",
    "TOL = 1E-5\n",
    "iter_count = 0\n",
    "maxIter = 50\n",
    "while eps > TOL and iter_count < maxIter:\n",
    "    iter_count += 1\n",
    "    A, b = assemble_system(a, L, bcs_du)\n",
    "    solve(A, dw.vector(), b)\n",
    "    eps = np.linalg.norm(dw.vector().get_local(), ord=np.Inf)\n",
    "    print(\"Norm: \", eps)\n",
    "    u.vector()[:] = u_k.vector() + omega * dw.vector()\n",
    "    u_k.assign(u)"
   ]
  },
  {
   "cell_type": "code",
   "execution_count": 8,
   "metadata": {},
   "outputs": [
    {
     "data": {
      "text/plain": [
       "<matplotlib.tri.tricontour.TriContourSet at 0x7f8561814198>"
      ]
     },
     "execution_count": 8,
     "metadata": {},
     "output_type": "execute_result"
    },
    {
     "data": {
      "image/png": "[encoded data removed]",
      "text/plain": [
       "<Figure size 432x288 with 1 Axes>"
      ]
     },
     "metadata": {
      "needs_background": "light"
     },
     "output_type": "display_data"
    }
   ],
   "source": [
    "plot(u)"
   ]
  },
  {
   "cell_type": "code",
   "execution_count": 53,
   "metadata": {},
   "outputs": [
    {
     "name": "stdout",
     "output_type": "stream",
     "text": [
      "Norm:  0.18089176288927594\n",
      "Norm:  0.01981948668759028\n",
      "Norm:  0.00026926894190851757\n",
      "Norm:  4.948730775607358e-08\n"
     ]
    }
   ],
   "source": [
    "# Another way to implement the above iteration block\n",
    "dw = Function(V)\n",
    "u = Function(V)\n",
    "eps = 1.0\n",
    "TOL = 1E-5\n",
    "iter_count = 0\n",
    "maxIter = 50\n",
    "while eps > TOL and iter_count < maxIter:\n",
    "    iter_count += 1\n",
    "    solve(a == L, dw, bcs_du)\n",
    "    eps = np.linalg.norm(dw.compute_vertex_values(), ord=np.Inf)\n",
    "    print(\"Norm: \", eps)\n",
    "    u = u_k + dw\n",
    "    u_k.assign(u)"
   ]
  },
  {
   "cell_type": "code",
   "execution_count": null,
   "metadata": {},
   "outputs": [],
   "source": []
  }
 ],
 "metadata": {
  "kernelspec": {
   "display_name": "Python 3",
   "language": "python",
   "name": "python3"
  },
  "language_info": {
   "codemirror_mode": {
    "name": "ipython",
    "version": 3
   },
   "file_extension": ".py",
   "mimetype": "text/x-python",
   "name": "python",
   "nbconvert_exporter": "python",
   "pygments_lexer": "ipython3",
   "version": "3.6.9"
  }
 },
 "nbformat": 4,
 "nbformat_minor": 4
}
