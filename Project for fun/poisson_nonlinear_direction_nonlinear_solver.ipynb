{
 "cells": [
  {
   "cell_type": "code",
   "execution_count": 1,
   "metadata": {},
   "outputs": [],
   "source": [
    "from dolfin import *\n",
    "import numpy as np\n",
    "import matplotlib.pyplot as plt"
   ]
  },
  {
   "cell_type": "code",
   "execution_count": 2,
   "metadata": {},
   "outputs": [],
   "source": [
    "# Set up the mesh and create finite element space relative to the mesh\n",
    "mesh = UnitSquareMesh(32, 32, \"crossed\")\n",
    "V = FunctionSpace(mesh, \"Lagrange\", 2)"
   ]
  },
  {
   "cell_type": "code",
   "execution_count": 3,
   "metadata": {},
   "outputs": [],
   "source": [
    "# Define boundary condition u = 0 at x = 0, u = 1 at x = 1.\n",
    "def left_boundary(x, on_boundary):\n",
    "    return near(x[0], 0, DOLFIN_EPS_LARGE) and on_boundary\n",
    "\n",
    "def right_boundary(x, on_boundary):\n",
    "    return near(x[0], 1.0, DOLFIN_EPS_LARGE) and on_boundary\n",
    "\n",
    "Gamma_0 = DirichletBC(V, Constant(0.0), left_boundary)\n",
    "Gamma_1 = DirichletBC(V, Constant(1.0), right_boundary)\n",
    "bcs = [Gamma_0, Gamma_1]"
   ]
  },
  {
   "cell_type": "code",
   "execution_count": 4,
   "metadata": {},
   "outputs": [],
   "source": [
    "# Define q(u) = (1+u)^m and its derivative Dq(u) = m*(1+u)^(m-1)\n",
    "m = 2\n",
    "def qq(u):\n",
    "    return (1+u)**m\n",
    "\n",
    "def Dqq(u):\n",
    "    return m*(1+u)**(m-1)\n",
    "\n",
    "u_ = Function(V)\n",
    "v = TestFunction(V)\n",
    "\n",
    "# The trial function is now the incremental solution du\n",
    "du = TrialFunction(V)\n",
    "v = TestFunction(V)\n",
    "u_ = Function(V)    # the most recently computed solution\n",
    "# Define the nonlinear problem in the variational formulation\n",
    "F = dot(qq(u_) * grad(u_), grad(v))*dx\n",
    "# Expression for the Gateaux derivative of F\n",
    "Jacobian = dot(qq(u_) * grad(du), grad(v))*dx \\\n",
    "            + dot(Dqq(u_)*du * grad(u_), grad(v))*dx"
   ]
  },
  {
   "cell_type": "code",
   "execution_count": 6,
   "metadata": {},
   "outputs": [],
   "source": [
    "problem = NonlinearVariationalProblem(F, u_, bcs, Jacobian)\n",
    "solver = NonlinearVariationalSolver(problem)\n",
    "prm = solver.parameters"
   ]
  },
  {
   "cell_type": "code",
   "execution_count": 7,
   "metadata": {},
   "outputs": [
    {
     "data": {
      "text/plain": [
       "(0, True)"
      ]
     },
     "execution_count": 7,
     "metadata": {},
     "output_type": "execute_result"
    }
   ],
   "source": [
    "prm[\"newton_solver\"][\"absolute_tolerance\"] = 1E-12\n",
    "prm[\"newton_solver\"][\"relative_tolerance\"] = 1E-10\n",
    "prm[\"newton_solver\"][\"maximum_iterations\"] = 50\n",
    "prm[\"newton_solver\"][\"relaxation_parameter\"] = 1.0\n",
    "\n",
    "iterative_solver = False\n",
    "if iterative_solver:\n",
    "    prm[\"linear_solver\"] = \"gmres\"\n",
    "    prm[\"preconditioner\"] = \"ilu\"\n",
    "    prm[\"krylov_solver\"][\"absolute_tolerance\"] = 1E-9\n",
    "    prm[\"krylov_solver\"][\"relative_tolerance\"] = 1E-7\n",
    "    prm[\"krylov_solver\"][\"maximum_iterations\"] = 1000\n",
    "    prm[\"krylov_solver\"][\"gmres\"][\"restart\"] = 40\n",
    "    prm[\"krylov_solver\"][\"preconditioner\"][\"ilu\"][\"fill_level\"] = 0\n",
    "    \n",
    "solver.solve()"
   ]
  },
  {
   "cell_type": "code",
   "execution_count": null,
   "metadata": {},
   "outputs": [],
   "source": [
    "u_exact = Expression(\"pow(7*x[0] + 1, 1.0/3) - 1\", degree = 3)\n",
    "\n",
    "plt.figure(figsize=(10, 3), dpi=80)\n",
    "plt.subplot(1, 2, 1)\n",
    "plt.colorbar(plot(u_))\n",
    "plt.subplot(1, 2, 2)\n",
    "plt.colorbar(plot(u_ - project(u_exact, V)))"
   ]
  },
  {
   "cell_type": "code",
   "execution_count": null,
   "metadata": {},
   "outputs": [],
   "source": [
    "# Alterantively, we can compute the Jacobian by symbolic computation with\n",
    "# derivative(F, u_, du). The above problem setup can be written compactly as\n",
    "# follows:\n",
    "du = TrialFunction(V)\n",
    "DF = derivative(F, u_, du)\n",
    "solve(F == 0, u_, bcs, J=DF)\n",
    "\n",
    "u_exact = Expression(\"pow(7*x[0] + 1, 1.0/3) - 1\", degree = 3)\n",
    "\n",
    "plt.figure(figsize=(10, 3), dpi=80)\n",
    "plt.subplot(1, 2, 1)\n",
    "plt.colorbar(plot(u_))\n",
    "plt.subplot(1, 2, 2)\n",
    "plt.colorbar(plot(u_ - project(u_exact, V)))"
   ]
  }
 ],
 "metadata": {
  "kernelspec": {
   "display_name": "Python 3",
   "language": "python",
   "name": "python3"
  },
  "language_info": {
   "codemirror_mode": {
    "name": "ipython",
    "version": 3
   },
   "file_extension": ".py",
   "mimetype": "text/x-python",
   "name": "python",
   "nbconvert_exporter": "python",
   "pygments_lexer": "ipython3",
   "version": "3.6.9"
  }
 },
 "nbformat": 4,
 "nbformat_minor": 4
}
