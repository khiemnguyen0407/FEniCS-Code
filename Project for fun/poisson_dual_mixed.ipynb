{
 "cells": [
  {
   "cell_type": "markdown",
   "metadata": {},
   "source": [
    "A formulation of Poisson equation involves introducing vector variable, namely negative flux $\\boldsymbol{\\sigma} = -\\nabla u$. The PDEs read\n",
    "\\begin{equation}\n",
    "    \\begin{aligned}\n",
    "    \\boldsymbol{\\sigma} + \\nabla u &= 0 \\quad \\text{in } \\Omega, \\\\\n",
    "    \\nabla \\cdot \\boldsymbol{\\sigma} &= f \\quad \\text{in } \\Omega,\n",
    "    \\end{aligned} \n",
    "\\end{equation}\n",
    "with boundary conditions\n",
    "\\begin{equation}\n",
    "    \\begin{aligned}\n",
    "    u &= u_{0} \\quad \\text{on } \\Gamma_{D}, \\\\\n",
    "    -\\boldsymbol{\\sigma}\\cdot \\mathbf{n} &= g \\quad \\text{on }\\Gamma_{N}.\n",
    "    \\end{aligned}\n",
    "\\end{equation}\n",
    "\n",
    "After multiplying by test functions $\\boldsymbol{\\tau}$ and $v$, integrating over the domain, and integrating term $\\nabla\\cdot \\boldsymbol{\\sigma} v$ by parts, one obtains the following variationa formulation: find $\\boldsymbol{\\sigma} \\in \\Sigma$ and $v \\in V$ satisfying\n",
    "\n",
    "\\begin{equation}\n",
    "\\begin{aligned}\n",
    "\\int_{\\Omega} (\\boldsymbol{\\sigma}\\cdot \\boldsymbol{\\tau} + \\nabla u \\cdot \\boldsymbol{\\tau}) \\mathrm{d} x &= 0 \\quad \\forall \\tau \\in \\Sigma, \\\\\n",
    "\\int_{\\Omega} \\boldsymbol{\\sigma}\\cdot \\nabla v \\mathrm{d} x &= -\\int_{\\Omega} f v \\mathrm{d} x - \\int_{\\Gamma_{N}} g v \\mathrm{d} x\\quad \\forall v \\in V\n",
    "\\end{aligned}\n",
    "\\end{equation}"
   ]
  },
  {
   "cell_type": "code",
   "execution_count": 1,
   "metadata": {},
   "outputs": [],
   "source": [
    "from dolfin import *"
   ]
  },
  {
   "cell_type": "code",
   "execution_count": 2,
   "metadata": {},
   "outputs": [],
   "source": [
    "mesh = UnitSquareMesh(16, 16, \"crossed\")"
   ]
  },
  {
   "cell_type": "code",
   "execution_count": 15,
   "metadata": {},
   "outputs": [],
   "source": [
    "k_order = 2\n",
    "DRT = FiniteElement(\"DRT\", mesh.ufl_cell(), k_order)\n",
    "CG = FiniteElement(\"CG\", mesh.ufl_cell(), k_order+1)\n",
    "W = FunctionSpace(mesh, MixedElement([DRT, CG]))"
   ]
  },
  {
   "cell_type": "code",
   "execution_count": 20,
   "metadata": {},
   "outputs": [],
   "source": [
    "# Define source function\n",
    "f = Expression(\"10*exp(-(pow(x[0] - 0.5, 2) \\\n",
    "               + pow(x[1] - 0.5, 2)) / 0.02)\", degree=2)\n",
    "g = Expression(\"sin(5.0 * x[0])\", degree=2)"
   ]
  },
  {
   "cell_type": "code",
   "execution_count": 23,
   "metadata": {},
   "outputs": [],
   "source": [
    "# Define the boundary condition\n",
    "def boundary(x, on_boundary):\n",
    "    return near(x[0], 0, DOLFIN_EPS_LARGE) \\\n",
    "            or near(x[0], 1.0, DOLFIN_EPS_LARGE)\n",
    "\n",
    "bc = DirichletBC(W.sub(1), 0.0, boundary)"
   ]
  },
  {
   "cell_type": "code",
   "execution_count": 31,
   "metadata": {},
   "outputs": [],
   "source": [
    "# Define trial and test function\n",
    "(sigma, u) = TrialFunctions(W)\n",
    "(tau, v) = TestFunctions(W)\n",
    "\n",
    "# Define variational form\n",
    "L = - (f*v*dx + g*v*ds)\n",
    "a = (dot(sigma, tau) + dot(grad(u), tau) + dot(sigma, grad(v)))*dx\n",
    "\n",
    "sol = Function(W)\n"
   ]
  },
  {
   "cell_type": "code",
   "execution_count": null,
   "metadata": {},
   "outputs": [],
   "source": []
  }
 ],
 "metadata": {
  "kernelspec": {
   "display_name": "Python 3",
   "language": "python",
   "name": "python3"
  },
  "language_info": {
   "codemirror_mode": {
    "name": "ipython",
    "version": 3
   },
   "file_extension": ".py",
   "mimetype": "text/x-python",
   "name": "python",
   "nbconvert_exporter": "python",
   "pygments_lexer": "ipython3",
   "version": "3.6.9"
  }
 },
 "nbformat": 4,
 "nbformat_minor": 4
}
